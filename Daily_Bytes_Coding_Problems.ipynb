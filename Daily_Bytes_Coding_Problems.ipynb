{
  "nbformat": 4,
  "nbformat_minor": 0,
  "metadata": {
    "colab": {
      "name": "Daily Bytes Coding Problems.ipynb",
      "provenance": [],
      "collapsed_sections": [],
      "authorship_tag": "ABX9TyOqCnPQhwb98wxrlYknWf4/",
      "include_colab_link": true
    },
    "kernelspec": {
      "name": "python3",
      "display_name": "Python 3"
    },
    "language_info": {
      "name": "python"
    }
  },
  "cells": [
    {
      "cell_type": "markdown",
      "metadata": {
        "id": "view-in-github",
        "colab_type": "text"
      },
      "source": [
        "<a href=\"https://colab.research.google.com/github/h4rz/Daily-Byte-s-Coding-Problems/blob/main/Daily_Bytes_Coding_Problems.ipynb\" target=\"_parent\"><img src=\"https://colab.research.google.com/assets/colab-badge.svg\" alt=\"Open In Colab\"/></a>"
      ]
    },
    {
      "cell_type": "markdown",
      "metadata": {
        "id": "3gDavL2RhxEN"
      },
      "source": [
        "# Daily Byte's Question\n",
        "\n",
        "https://thedailybyte.dev/"
      ]
    },
    {
      "cell_type": "code",
      "metadata": {
        "id": "HGhJMZAZmi6d"
      },
      "source": [
        "# Utils\n",
        "# Definition for singly-linked list.\n",
        "class ListNode:\n",
        "    def __init__(self, val=0, next=None):\n",
        "        self.val = val\n",
        "        self.next = next\n",
        "\n",
        "    def getLength(self):\n",
        "        length = 0\n",
        "        curr = self\n",
        "        while curr != None:\n",
        "            curr = curr.next\n",
        "            length += 1\n",
        "        return length\n",
        "\n",
        "    def toList(self):\n",
        "      curr = self\n",
        "      temp = []\n",
        "      while curr != None:\n",
        "        temp.append(curr.val)\n",
        "        curr = curr.next\n",
        "      return temp\n",
        "\n",
        "def toListNode(inputList):\n",
        "  node = ListNode(inputList[0])\n",
        "  curr = node\n",
        "  length = len(inputList)\n",
        "  for i in range(1, length):\n",
        "    newNode = ListNode(inputList[i])\n",
        "    curr.next = newNode\n",
        "    curr = curr.next\n",
        "  return node\n",
        "\n",
        "def toCircularListNode(inputList, pos):\n",
        "  node = ListNode(inputList[0])\n",
        "  curr = node\n",
        "  length = len(inputList)\n",
        "  j = 1\n",
        "  pointBackNode = None\n",
        "  for i in range(1, length):\n",
        "    newNode = ListNode(inputList[i])\n",
        "    curr.next = newNode\n",
        "    curr = curr.next\n",
        "    if j == pos:\n",
        "      pointBackNode = curr\n",
        "    j += 1\n",
        "  if pos == 0:\n",
        "    curr.next = node\n",
        "  else:\n",
        "    curr.next = pointBackNode\n",
        "  return node\n",
        "\n",
        "def reverse(input, is_debug = False):\n",
        "  reversed = input[::-1]\n",
        "  if is_debug:\n",
        "    print(\"Reverse of {} -> {}\".format(input, reversed))\n",
        "  return reversed\n",
        "\n",
        "def is_palindrome(input, is_debug = False):\n",
        "  cleaned_input = \"\"\n",
        "  for s in input:\n",
        "    if s.isalnum():\n",
        "      cleaned_input += s.lower()\n",
        "  if is_debug:\n",
        "      print(\"After removing special chars and spaces {}\".format(cleaned_input))\n",
        "  return cleaned_input == reverse(cleaned_input, is_debug)"
      ],
      "execution_count": 1,
      "outputs": []
    },
    {
      "cell_type": "markdown",
      "metadata": {
        "id": "hAt-j7ipiIO4"
      },
      "source": [
        "Given a string, reverse all of its characters and return the resulting string. **[Google]**\n",
        "\n",
        "Ex: Given the following strings...\n",
        "\n",
        "```\n",
        "“Cat”, return “taC”\n",
        "“The Daily Byte”, return \"etyB yliaD ehT”\n",
        "“civic”, return “civic”\n",
        "```"
      ]
    },
    {
      "cell_type": "code",
      "metadata": {
        "colab": {
          "base_uri": "https://localhost:8080/"
        },
        "id": "0nIb97soiDK6",
        "outputId": "589e27a0-8401-4b04-caed-8b7942bfdfbe"
      },
      "source": [
        "inputs = [\"Cat\", \"The Daily Byte\", \"civic\"]\n",
        "\n",
        "for input in inputs:\n",
        "  print(reverse(input))"
      ],
      "execution_count": 2,
      "outputs": [
        {
          "output_type": "stream",
          "text": [
            "taC\n",
            "etyB yliaD ehT\n",
            "civic\n"
          ],
          "name": "stdout"
        }
      ]
    },
    {
      "cell_type": "markdown",
      "metadata": {
        "id": "4FvpxKyalr7H"
      },
      "source": [
        "Given a string, return whether or not it forms a palindrome ignoring case and non-alphabetical characters. **[Facebook]** [LeetCode](https://leetcode.com/problems/valid-palindrome/)\n",
        "\n",
        "Note: a palindrome is a sequence of characters that reads the same forwards and backwards.\n",
        "\n",
        "Ex: Given the following strings...\n",
        "```\n",
        "\"level\", return true\n",
        "\"algorithm\", return false\n",
        "\"A man, a plan, a canal: Panama.\", return true\n",
        "```"
      ]
    },
    {
      "cell_type": "code",
      "metadata": {
        "colab": {
          "base_uri": "https://localhost:8080/"
        },
        "id": "sSMilFEbl3US",
        "outputId": "54d326ea-ed50-4870-a6bf-c41551e24ecb"
      },
      "source": [
        "inputs = [\"level\", \"algorithm\", \"A man, a plan, a canal: Panama.\"]\n",
        "\n",
        "for input in inputs:\n",
        "  print(is_palindrome(input))"
      ],
      "execution_count": 3,
      "outputs": [
        {
          "output_type": "stream",
          "text": [
            "True\n",
            "False\n",
            "True\n"
          ],
          "name": "stdout"
        }
      ]
    },
    {
      "cell_type": "markdown",
      "metadata": {
        "id": "tFXGcC4hw8kO"
      },
      "source": [
        "Given a string representing the sequence of moves a robot vacuum makes, return whether or not it will return to its original position. The string will only contain L, R, U, and D characters, representing left, right, up, and down respectively. **[Amazon]** [LeetCode](https://leetcode.com/problems/robot-return-to-origin/)\n",
        "\n",
        "Ex: Given the following strings...\n",
        "```\n",
        "\"LR\", return true\n",
        "\"URURD\", return false\n",
        "\"RUULLDRD\", return true\n",
        "```"
      ]
    },
    {
      "cell_type": "code",
      "metadata": {
        "colab": {
          "base_uri": "https://localhost:8080/"
        },
        "id": "VOHzC3vTw7oe",
        "outputId": "7c07f1e5-c7d5-4cbc-f3e6-d01d4f839678"
      },
      "source": [
        "def will_return_og_pos(input):\n",
        "  count_l_r = 0\n",
        "  count_u_d = 0\n",
        "  for i in input:\n",
        "    if i == \"L\":\n",
        "      count_l_r += 1\n",
        "    if i == \"R\":\n",
        "      count_l_r -= 1\n",
        "    if i == \"U\":\n",
        "      count_u_d += 1\n",
        "    if i == \"D\":\n",
        "      count_u_d -= 1\n",
        "  return count_l_r == 0 and count_u_d == 0\n",
        "\n",
        "inputs = [\"LR\", \"URURD\", \"RUULLDRD\"]\n",
        "\n",
        "for input in inputs:\n",
        "  print(will_return_og_pos(input))"
      ],
      "execution_count": 4,
      "outputs": [
        {
          "output_type": "stream",
          "text": [
            "True\n",
            "False\n",
            "True\n"
          ],
          "name": "stdout"
        }
      ]
    },
    {
      "cell_type": "markdown",
      "metadata": {
        "id": "EY7s-lhk_VuI"
      },
      "source": [
        "Given a string, return whether or not it uses capitalization correctly. A string correctly uses capitalization if all letters are capitalized, no letters are capitalized, or only the first letter is capitalized. **[Google]** [LeetCode](https://leetcode.com/problems/detect-capital/)\n",
        "\n",
        "Ex: Given the following strings...\n",
        "```\n",
        "\"USA\", return true\n",
        "\"Calvin\", return true\n",
        "\"compUter\", return false\n",
        "\"coding\", return true\n",
        "```"
      ]
    },
    {
      "cell_type": "code",
      "metadata": {
        "id": "EH8WmcE1_eac",
        "colab": {
          "base_uri": "https://localhost:8080/"
        },
        "outputId": "b6105d91-ff86-4663-a1bc-b45e8849c87c"
      },
      "source": [
        "def detectCapitalUse(input):\n",
        "  if input == input.lower() or input == input.upper():\n",
        "    return True\n",
        "  elif input[0].isupper() and input[1:].islower():\n",
        "    return True\n",
        "  else:\n",
        "    return False\n",
        "\n",
        "inputs = [\"USA\", \"Calvin\", \"compUter\", \"coding\"]\n",
        "\n",
        "for input in inputs:\n",
        "  print(detectCapitalUse(input))"
      ],
      "execution_count": 5,
      "outputs": [
        {
          "output_type": "stream",
          "text": [
            "True\n",
            "True\n",
            "False\n",
            "True\n"
          ],
          "name": "stdout"
        }
      ]
    },
    {
      "cell_type": "markdown",
      "metadata": {
        "id": "NXPscDbKCBG2"
      },
      "source": [
        "Given two binary strings (strings containing only 1s and 0s) return their sum (also as a binary string). **[Apple]** [LeetCode](https://leetcode.com/problems/add-binary/)\n",
        "\n",
        "Note: neither binary string will contain leading 0s unless the string itself is 0\n",
        "\n",
        "Ex: Given the following binary strings...\n",
        "```\n",
        "\"100\" + \"1\", return \"101\"\n",
        "\"11\" + \"1\", return \"100\"\n",
        "\"1\" + \"0\", return  \"1\"\n",
        "```"
      ]
    },
    {
      "cell_type": "code",
      "metadata": {
        "id": "V2ihNhWKCJUR",
        "colab": {
          "base_uri": "https://localhost:8080/"
        },
        "outputId": "964c9860-5714-41f7-f178-e992ae396efb"
      },
      "source": [
        "def toDecimal(numString):\n",
        "  curr = int(numString[0])\n",
        "  for i in numString[1:]:\n",
        "    curr = (2 * curr) + int(i)\n",
        "  return curr\n",
        "\n",
        "def toBinary(num):\n",
        "  bin = \"\"\n",
        "  if num == 0:\n",
        "      return \"0\"\n",
        "  while num != 0:\n",
        "    bin += str(num % 2)\n",
        "    num = num // 2\n",
        "  return bin[::-1]\n",
        "\n",
        "def addBinary(a, b):\n",
        "  a = toDecimal(a)\n",
        "  b = toDecimal(b)\n",
        "  c = a+b\n",
        "  return toBinary(c)\n",
        "\n",
        "a = [\"100\", \"11\", \"0\",\"1\"]\n",
        "b = [\"1\", \"1\", \"0\", \"0\"]\n",
        "\n",
        "for i in range(len(a)):\n",
        "  print(addBinary(a[i],b[i]))"
      ],
      "execution_count": 6,
      "outputs": [
        {
          "output_type": "stream",
          "text": [
            "101\n",
            "100\n",
            "0\n",
            "1\n"
          ],
          "name": "stdout"
        }
      ]
    },
    {
      "cell_type": "markdown",
      "metadata": {
        "id": "AozImoZeOA6p"
      },
      "source": [
        "Given an array of strings, return the longest common prefix that is shared amongst all strings. **[Microsoft]** [LeetCode](https://leetcode.com/problems/longest-common-prefix/)\n",
        "\n",
        "Note: you may assume all strings only contain lowercase alphabetical characters.\n",
        "\n",
        "Ex: Given the following arrays...\n",
        "```\n",
        "[\"colorado\", \"color\", \"cold\"], return \"col\"\n",
        "[\"a\", \"b\", \"c\"], return \"\"\n",
        "[\"spot\", \"spotty\", \"spotted\"], return \"spot\"\n",
        "```"
      ]
    },
    {
      "cell_type": "code",
      "metadata": {
        "colab": {
          "base_uri": "https://localhost:8080/"
        },
        "id": "wLdEOUuJWNlL",
        "outputId": "a87df3c9-8f22-4f33-b907-e00d34a3b8f6"
      },
      "source": [
        "class Solution:\n",
        "    def longestCommonPrefix(self, strs):\n",
        "        if len(strs) == 0:\n",
        "            return \"\"\n",
        "        if len(strs) == 1:\n",
        "            return strs[0]\n",
        "        minS = min(strs)\n",
        "        prefix = \"\"\n",
        "        for word in strs:\n",
        "            if prefix:\n",
        "                minS = prefix\n",
        "            i = len(minS)\n",
        "            currPref = \"\"\n",
        "            while i != 0:\n",
        "                if minS[:i] == word[:i]:\n",
        "                    currPref = minS[:i]\n",
        "                    break\n",
        "                else:\n",
        "                    i -= 1\n",
        "            if not currPref:\n",
        "                return currPref\n",
        "            else:\n",
        "                prefix = currPref\n",
        "        return prefix\n",
        "\n",
        "\n",
        "inputs = [[\"colorado\", \"color\", \"cold\"],\n",
        "         [\"a\", \"b\", \"c\"],\n",
        "         [\"spot\", \"spotty\", \"spotted\"]]\n",
        "\n",
        "for input in inputs:\n",
        "  print(Solution().longestCommonPrefix(input))"
      ],
      "execution_count": 7,
      "outputs": [
        {
          "output_type": "stream",
          "text": [
            "col\n",
            "\n",
            "spot\n"
          ],
          "name": "stdout"
        }
      ]
    },
    {
      "cell_type": "markdown",
      "metadata": {
        "id": "QNJlQo-efCxl"
      },
      "source": [
        "Given a string and the ability to delete at most one character, return whether or not it can form a palindrome. **[Facebook]** [LeetCode](https://leetcode.com/problems/valid-palindrome-ii/)\n",
        "\n",
        "Note: a palindrome is a sequence of characters that reads the same forwards and backwards.\n",
        "\n",
        "Ex: Given the following strings...\n",
        "```\n",
        "\"abcba\", return true\n",
        "\"foobof\", return true (remove the first 'o', the second 'o', or 'b')\n",
        "\"abccab\", return false\n",
        "```"
      ]
    },
    {
      "cell_type": "code",
      "metadata": {
        "id": "eT5CQrL6fJZ8",
        "colab": {
          "base_uri": "https://localhost:8080/"
        },
        "outputId": "2b662700-4d31-45d4-af36-1f724a4c9bb5"
      },
      "source": [
        "class Solution:\n",
        "    def validPalindrome(self, s: str) -> bool:\n",
        "        left, right = 0, len(s) - 1\n",
        "        while left < right:\n",
        "            if s[left] != s[right]:\n",
        "                one, two = s[left:right], s[left + 1:right + 1]\n",
        "                return one == one[::-1] or two == two[::-1]\n",
        "            left, right = left + 1, right - 1\n",
        "        return True\n",
        "\n",
        "inputs = [\"abcba\", \"foobof\", \"abccab\"]\n",
        "for input in inputs:\n",
        "  print(Solution().validPalindrome(input))"
      ],
      "execution_count": 8,
      "outputs": [
        {
          "output_type": "stream",
          "text": [
            "True\n",
            "True\n",
            "False\n"
          ],
          "name": "stdout"
        }
      ]
    },
    {
      "cell_type": "markdown",
      "metadata": {
        "id": "AXacOKAjxnVQ"
      },
      "source": [
        "Given an array of integers, return whether or not two numbers sum to a given target, k. **[Google]** [LeetCode](https://leetcode.com/problems/two-sum/)\n",
        "\n",
        "Note: you may not sum a number with itself.\n",
        "\n",
        "Ex: Given the following...\n",
        "```\n",
        "[1, 3, 8, 2], k = 10, return true (8 + 2)\n",
        "[3, 9, 13, 7], k = 8, return false\n",
        "[4, 2, 6, 5, 2], k = 4, return true (2 + 2)\n",
        "```"
      ]
    },
    {
      "cell_type": "code",
      "metadata": {
        "colab": {
          "base_uri": "https://localhost:8080/"
        },
        "id": "d8IEFh7byUqt",
        "outputId": "4dd75738-d24e-4d40-a540-64cfd034edcc"
      },
      "source": [
        "class Solution:\n",
        "    def twoSum(self, nums, target):\n",
        "        dictionary = dict()\n",
        "        pos = 0\n",
        "        while pos < len(nums):\n",
        "            diff = target - nums[pos]\n",
        "            if (diff) not in dictionary:\n",
        "                dictionary[nums[pos]] = pos\n",
        "                pos += 1\n",
        "            else:\n",
        "                #return [dictionary[diff], pos]\n",
        "                return True\n",
        "        return False\n",
        "\n",
        "inputs = {\n",
        "    10 : [1, 3, 8, 2],\n",
        "    8 : [3, 9, 13, 7],\n",
        "    4 : [4, 2, 6, 5, 2]\n",
        "}\n",
        "\n",
        "for input in inputs:\n",
        "  print(Solution().twoSum(inputs[input],input))"
      ],
      "execution_count": 9,
      "outputs": [
        {
          "output_type": "stream",
          "text": [
            "True\n",
            "False\n",
            "True\n"
          ],
          "name": "stdout"
        }
      ]
    },
    {
      "cell_type": "markdown",
      "metadata": {
        "id": "SGNJJ1gOPpxp"
      },
      "source": [
        "Given a string representing your stones and another string representing a list of jewels, return the number of stones that you have that are also jewels. **[Amazon]** [LeetCode](https://leetcode.com/problems/jewels-and-stones/)\n",
        "\n",
        "Ex: Given the following jewels and stones...\n",
        "```\n",
        "jewels = \"abc\", stones = \"ac\", return 2\n",
        "jewels = \"Af\", stones = \"AaaddfFf\", return 3\n",
        "jewels = \"AYOPD\", stones = \"ayopd\", return 0\n",
        "```"
      ]
    },
    {
      "cell_type": "code",
      "metadata": {
        "id": "KfaQSmGYPvjq",
        "colab": {
          "base_uri": "https://localhost:8080/"
        },
        "outputId": "aaa51dab-923f-4f30-c754-23a5dcf659ba"
      },
      "source": [
        "class Solution:\n",
        "    def numJewelsInStones(self, jewels: str, stones: str) -> int:\n",
        "        count = 0\n",
        "        for s in stones:\n",
        "            for j in jewels:\n",
        "                if s == j:\n",
        "                    count += 1\n",
        "        return count\n",
        "\n",
        "jewels = [\"abc\", \"Af\", \"AYOPD\"]\n",
        "stones = [\"ac\", \"AaaddfFf\", \"ayopd\"]\n",
        "\n",
        "for i in range(len(jewels)):\n",
        "  print(Solution().numJewelsInStones(jewels[i], stones[i]))"
      ],
      "execution_count": 10,
      "outputs": [
        {
          "output_type": "stream",
          "text": [
            "2\n",
            "3\n",
            "0\n"
          ],
          "name": "stdout"
        }
      ]
    },
    {
      "cell_type": "markdown",
      "metadata": {
        "id": "-RC7YQa4vRM3"
      },
      "source": [
        "Given two strings s and t return whether or not s is an anagram of t.\n",
        "Note: An anagram is a word formed by reordering the letters of another word. **[Facebook]** [LeetCode](https://leetcode.com/problems/valid-anagram/)\n",
        "\n",
        "Ex: Given the following strings...\n",
        "```\n",
        "s = \"cat\", t = \"tac\", return true\n",
        "s = \"listen\", t = \"silent\", return true\n",
        "s = \"program\", t = \"function\", return false\n",
        "```"
      ]
    },
    {
      "cell_type": "code",
      "metadata": {
        "id": "taOlJKixvRj3",
        "colab": {
          "base_uri": "https://localhost:8080/"
        },
        "outputId": "26cf1aaa-3de9-4bb9-9893-fb5480f5f92f"
      },
      "source": [
        "class Solution:\n",
        "    def isAnagram(self, s: str, t: str) -> bool:\n",
        "        if len(s) != len(t):\n",
        "            return False\n",
        "        s_list = [c for c in s]\n",
        "        t_list = [c for c in t]\n",
        "        s_list.sort()\n",
        "        t_list.sort()\n",
        "        return s_list == t_list\n",
        "\n",
        "s = [\"cat\", \"listen\", \"program\"]\n",
        "t = [\"tac\", \"silent\", \"function\"]\n",
        "for i in range(len(s)):\n",
        "  print(Solution().isAnagram(s[i], t[i]))"
      ],
      "execution_count": 11,
      "outputs": [
        {
          "output_type": "stream",
          "text": [
            "True\n",
            "True\n",
            "False\n"
          ],
          "name": "stdout"
        }
      ]
    },
    {
      "cell_type": "markdown",
      "metadata": {
        "id": "O2h4CpE621UU"
      },
      "source": [
        "Given a string, return the index of its first unique character. If a unique character does not exist, return -1. **[Microsoft]** [LeetCode](https://leetcode.com/problems/first-unique-character-in-a-string/)\n",
        "\n",
        "Ex: Given the following strings...\n",
        "```\n",
        "\"abcabd\", return 2\n",
        "\"thedailybyte\", return 1\n",
        "\"developer\", return 0\n",
        "```"
      ]
    },
    {
      "cell_type": "code",
      "metadata": {
        "colab": {
          "base_uri": "https://localhost:8080/"
        },
        "id": "W-QPh4jQ3EMc",
        "outputId": "2cb76c78-0b8d-4b9d-ea32-f971f4b7e707"
      },
      "source": [
        "class Solution:\n",
        "    def firstUniqChar(self, s: str) -> int:\n",
        "        '''\n",
        "        hashMap = dict()\n",
        "        for i in range(0, len(s)):\n",
        "            char = s[i]\n",
        "            if char in hashMap:\n",
        "                continue\n",
        "            if s.count(char) == 1:\n",
        "                return i\n",
        "            hashMap[char] = i\n",
        "        return -1\n",
        "        '''\n",
        "        alpha = 'abcdefghijklmnopqrstuvwxyz'\n",
        "        index = [s.index(char) for char in alpha if s.count(char) == 1]\n",
        "        return min(index) if len(index) > 0 else -1\n",
        "\n",
        "inputs = [\"abcabd\", \"thedailybyte\", \"developer\"]\n",
        "for input in inputs:\n",
        "  print(Solution().firstUniqChar(input))"
      ],
      "execution_count": 12,
      "outputs": [
        {
          "output_type": "stream",
          "text": [
            "2\n",
            "1\n",
            "0\n"
          ],
          "name": "stdout"
        }
      ]
    },
    {
      "cell_type": "markdown",
      "metadata": {
        "id": "D2_DH3HF6mcG"
      },
      "source": [
        "You are given two strings, s and t which only consist of lowercase letters. t is generated by shuffling the letters in s as well as potentially adding an additional random character. Return the letter that was randomly added to t if it exists, otherwise, return ’ ‘. **[Google]** [LeetCode](https://leetcode.com/problems/find-the-difference/)\n",
        "\n",
        "Note: You may assume that at most one additional character can be added to t.\n",
        "\n",
        "Ex: Given the following strings...\n",
        "```\n",
        "s = \"foobar\", t = \"barfoot\", return 't'\n",
        "s = \"ide\", t = \"idea\", return 'a'\n",
        "s = \"coding\", t \"ingcod\", return ''\n",
        "```"
      ]
    },
    {
      "cell_type": "code",
      "metadata": {
        "id": "ccfnkH83_gI6",
        "colab": {
          "base_uri": "https://localhost:8080/"
        },
        "outputId": "2b295bab-ff20-49b1-9307-4f3ce5a72ef0"
      },
      "source": [
        "class Solution:\n",
        "    def findTheDifference(self, s: str, t: str) -> str:\n",
        "        alpha = 'abcdefghijklmnopqrstuvwxyz'\n",
        "        for char in alpha:\n",
        "            if char in t and (char not in s or s.count(char) != t.count(char)):\n",
        "                return char\n",
        "        return ''\n",
        "\n",
        "s = ['foobar', 'ide', 'coding']\n",
        "t = ['barfoot', 'idea', 'ingcod']\n",
        "for i in range(0, len(s)):\n",
        "  print(Solution().findTheDifference(s[i], t[i]))"
      ],
      "execution_count": 13,
      "outputs": [
        {
          "output_type": "stream",
          "text": [
            "t\n",
            "a\n",
            "\n"
          ],
          "name": "stdout"
        }
      ]
    },
    {
      "cell_type": "markdown",
      "metadata": {
        "id": "mDNapmPQOxlz"
      },
      "source": [
        "Given two integer arrays, return their intersection. **[Google]** [LeetCode](https://leetcode.com/problems/intersection-of-two-arrays/submissions/)\n",
        "\n",
        "Note: the intersection is the set of elements that are common to both arrays.\n",
        "\n",
        "Ex: Given the following arrays...\n",
        "```\n",
        "nums1 = [2, 4, 4, 2], nums2 = [2, 4], return [2, 4]\n",
        "nums1 = [1, 2, 3, 3], nums2 = [3, 3], return [3]\n",
        "nums1 = [2, 4, 6, 8], nums2 = [1, 3, 5, 7], return []\n",
        "```"
      ]
    },
    {
      "cell_type": "code",
      "metadata": {
        "id": "2-M1uDzBO8Nj",
        "colab": {
          "base_uri": "https://localhost:8080/"
        },
        "outputId": "ec6ff0e8-7dab-4504-ddd7-67e5d6817801"
      },
      "source": [
        "class Solution:\n",
        "    def intersection(self, nums1, nums2):\n",
        "        return list(set(nums1) & set(nums2))\n",
        "\n",
        "nums1 =[[2, 4, 4, 2],\n",
        "        [1, 2, 3, 3],\n",
        "        [2, 4, 6, 8]]\n",
        "\n",
        "nums2 = [[2, 4],\n",
        "         [3, 3],\n",
        "         [1, 3, 5, 7]]\n",
        "\n",
        "for i in range(0, len(nums1)):\n",
        "  print(Solution().intersection(nums1[i], nums2[i]))"
      ],
      "execution_count": 14,
      "outputs": [
        {
          "output_type": "stream",
          "text": [
            "[2, 4]\n",
            "[3]\n",
            "[]\n"
          ],
          "name": "stdout"
        }
      ]
    },
    {
      "cell_type": "markdown",
      "metadata": {
        "id": "eAWgt4NwpLh6"
      },
      "source": [
        "Given two strings representing sentences, return the words that are not common to both strings (i.e. the words that only appear in one of the sentences). You may assume that each sentence is a sequence of words (without punctuation) correctly separated using space characters. **[Amazon]** [LeetCode](https://leetcode.com/problems/uncommon-words-from-two-sentences/submissions/)\n",
        "\n",
        "Ex: given the following strings...\n",
        "```\n",
        "sentence1 = \"the quick\", sentence2 = \"brown fox\", return [\"the\", \"quick\", \"brown\", \"fox\"]\n",
        "sentence1 = \"the tortoise beat the haire\", sentence2 = \"the tortoise lost to the haire\", return [\"beat\", \"to\", \"lost\"]\n",
        "sentence1 = \"copper coffee pot\", sentence2 = \"hot coffee pot\", return [\"copper\", \"hot\"]\n",
        "```"
      ]
    },
    {
      "cell_type": "code",
      "metadata": {
        "id": "xpQwHQw_pcPD",
        "colab": {
          "base_uri": "https://localhost:8080/"
        },
        "outputId": "f0ca0ab3-6510-4ea5-8d95-c7f4769c42d3"
      },
      "source": [
        "from collections import Counter\n",
        "class Solution:\n",
        "    def uncommonFromSentences(self, s1, s2):\n",
        "        counter1 = Counter(s1.split(\" \"))\n",
        "        counter2 = Counter(s2.split(\" \"))\n",
        "        \n",
        "        result = []\n",
        "        for key in counter1:\n",
        "            if counter1[key] == 1:\n",
        "                if key not in counter2:\n",
        "                    result.append(key)\n",
        "        \n",
        "        for key in counter2:\n",
        "            if counter2[key] == 1:\n",
        "                if key not in counter1:\n",
        "                    result.append(key)\n",
        "                    \n",
        "        return result\n",
        "\n",
        "sentences1 = [\"the quick\", \"the tortoise beat the haire\", \"copper coffee pot\"]\n",
        "sentences2 = [\"brown fox\", \"the tortoise lost to the haire\", \"hot coffee pot\"]\n",
        "\n",
        "for i in range(0, len(sentences1)):\n",
        "  print(Solution().uncommonFromSentences(sentences1[i], sentences2[i]))"
      ],
      "execution_count": 15,
      "outputs": [
        {
          "output_type": "stream",
          "text": [
            "['the', 'quick', 'brown', 'fox']\n",
            "['beat', 'lost', 'to']\n",
            "['copper', 'hot']\n"
          ],
          "name": "stdout"
        }
      ]
    },
    {
      "cell_type": "markdown",
      "metadata": {
        "id": "TFDEAJpCFg2S"
      },
      "source": [
        "Given two sorted linked lists, merge them together in ascending order and return a reference to the merged list. **[Apple]** [LeetCode](https://leetcode.com/problems/merge-two-sorted-lists/submissions/)\n",
        "\n",
        "Ex: Given the following lists...\n",
        "```\n",
        "list1 = 1->2->3, list2 = 4->5->6->null, return 1->2->3->4->5->6->null\n",
        "list1 = 1->3->5, list2 = 2->4->6->null, return 1->2->3->4->5->6->null\n",
        "list1 = 4->4->7, list2 = 1->5->6->null, return 1->4->4->5->6->7->null\n",
        "```"
      ]
    },
    {
      "cell_type": "code",
      "metadata": {
        "id": "VV6NNDeoG_k4",
        "colab": {
          "base_uri": "https://localhost:8080/"
        },
        "outputId": "f1a2e65e-7479-4cf6-8904-67a0f59f2af2"
      },
      "source": [
        "class Solution:\n",
        "    def mergeTwoLists(self, l1: ListNode, l2: ListNode) -> ListNode:\n",
        "        result = ListNode()\n",
        "        curr = result\n",
        "        while l1 and l2:\n",
        "            if l1.val <= l2.val:\n",
        "                curr.next = l1\n",
        "                l1 = l1.next\n",
        "            else:\n",
        "                curr.next = l2\n",
        "                l2 = l2.next\n",
        "            curr = curr.next\n",
        "        curr.next = l1 if l1 else l2\n",
        "        return result.next\n",
        "\n",
        "listNodes1 = [toListNode([1, 2, 3]),\n",
        "              toListNode([1, 3, 5]),\n",
        "              toListNode([4, 4, 7]),]\n",
        "\n",
        "listNodes2 = [toListNode([4, 5, 6]),\n",
        "              toListNode([2, 4, 6]),\n",
        "              toListNode([1, 5, 6]),]\n",
        "\n",
        "for i in range(0, len(listNodes1)):\n",
        "  node = Solution().mergeTwoLists(listNodes1[i], listNodes2[i])\n",
        "  print(node.toList())"
      ],
      "execution_count": 16,
      "outputs": [
        {
          "output_type": "stream",
          "text": [
            "[1, 2, 3, 4, 5, 6]\n",
            "[1, 2, 3, 4, 5, 6]\n",
            "[1, 4, 4, 5, 6, 7]\n"
          ],
          "name": "stdout"
        }
      ]
    },
    {
      "cell_type": "markdown",
      "metadata": {
        "id": "X1pbFD-5Z-I1"
      },
      "source": [
        "Given a linked list and a value n, remove the nth to last node and return the resulting list. **[Facebook]** [LeetCode](https://leetcode.com/problems/remove-nth-node-from-end-of-list/)\n",
        "\n",
        "Ex: Given the following linked lists...\n",
        "```\n",
        "1->2->3->null, n = 1, return 1->2->null\n",
        "1->2->3->null, n = 2, return 1->3->null\n",
        "1->2->3->null, n = 3, return 2->3->null\n",
        "```"
      ]
    },
    {
      "cell_type": "code",
      "metadata": {
        "id": "kzg_QrKSaIjK",
        "colab": {
          "base_uri": "https://localhost:8080/"
        },
        "outputId": "5550fe12-bca3-4322-b1f7-fe2fc2f090f8"
      },
      "source": [
        "class Solution:\n",
        "    def removeNthFromEnd(self, head: ListNode, n: int) -> ListNode:\n",
        "        dummy = ListNode()\n",
        "        dummy.next = head\n",
        "        curr = head\n",
        "        length = 0\n",
        "        while curr != None:\n",
        "            curr = curr.next\n",
        "            length += 1 \n",
        "        length -= n\n",
        "        curr = dummy\n",
        "        while length > 0:\n",
        "            curr = curr.next\n",
        "            length -= 1\n",
        "        curr.next = curr.next.next\n",
        "        return dummy.next\n",
        "\n",
        "listNodes = [toListNode([1, 2, 3]),\n",
        "             toListNode([1, 2, 3]),\n",
        "             toListNode([1, 2, 3]),]\n",
        "\n",
        "for i in range(0, len(listNodes)):\n",
        "  node = Solution().removeNthFromEnd(listNodes[i], i+1)\n",
        "  print(node.toList())"
      ],
      "execution_count": 17,
      "outputs": [
        {
          "output_type": "stream",
          "text": [
            "[1, 2]\n",
            "[1, 3]\n",
            "[2, 3]\n"
          ],
          "name": "stdout"
        }
      ]
    },
    {
      "cell_type": "markdown",
      "metadata": {
        "id": "knM63NC10AeD"
      },
      "source": [
        "Given a linked list and a value, remove all nodes containing the provided value, and return the resulting list. **[Google]** [LeetCode](https://leetcode.com/problems/remove-linked-list-elements/)\n",
        " \n",
        "Ex: Given the following linked lists and values...\n",
        "```\n",
        "1->2->3->null, value = 3, return 1->2->null\n",
        "8->1->1->4->12->null, value = 1, return 8->4->12->null\n",
        "7->12->2->9->null, value = 7, return 12->2->9->null\n",
        "```"
      ]
    },
    {
      "cell_type": "code",
      "metadata": {
        "colab": {
          "base_uri": "https://localhost:8080/"
        },
        "id": "pfiK_dPP0A19",
        "outputId": "5a3ba0c4-28da-4b11-b19f-2a8f36032f35"
      },
      "source": [
        "class Solution:\n",
        "    def removeElements(self, head: ListNode, val: int) -> ListNode:\n",
        "        dummy = ListNode()\n",
        "        dummy.next = head\n",
        "        prev = dummy\n",
        "        curr = dummy.next\n",
        "        while curr != None:\n",
        "            if curr.val == val:\n",
        "                prev.next = curr.next\n",
        "            else:\n",
        "                prev = curr\n",
        "            curr = curr.next\n",
        "        return dummy.next\n",
        "\n",
        "listNodes = [toListNode([1, 2, 3]),\n",
        "             toListNode([8, 1, 1, 4, 12]),\n",
        "             toListNode([7, 12, 2, 9])]\n",
        "\n",
        "delList = [3, 1, 7]\n",
        "\n",
        "for i in range(0, len(listNodes)):\n",
        "  node = Solution().removeElements(listNodes[i], delList[i])\n",
        "  print(node.toList())"
      ],
      "execution_count": 18,
      "outputs": [
        {
          "output_type": "stream",
          "text": [
            "[1, 2]\n",
            "[8, 4, 12]\n",
            "[12, 2, 9]\n"
          ],
          "name": "stdout"
        }
      ]
    },
    {
      "cell_type": "markdown",
      "metadata": {
        "id": "GIkMMXj86jKn"
      },
      "source": [
        "Given a non-empty linked list, return the middle node of the list. If the linked list contains an even number of elements, return the node closer to the end. **[Amazon]** [LeetCode](https://leetcode.com/problems/middle-of-the-linked-list/)\n",
        "\n",
        "```\n",
        "1->2->3->null, return 2->3->null\n",
        "1->2->3->4->null, return 3->4->null\n",
        "1->null, return 1->null\n",
        "```"
      ]
    },
    {
      "cell_type": "code",
      "metadata": {
        "id": "vAKXmsiH6jXb",
        "colab": {
          "base_uri": "https://localhost:8080/"
        },
        "outputId": "aef3dbdf-1d0e-4ae6-da7f-18461016c9ec"
      },
      "source": [
        "class Solution: \n",
        "    def middleNode(self, head: ListNode) -> ListNode:\n",
        "      length = head.getLength()\n",
        "      center = length // 2\n",
        "      if length % 2 == 0:\n",
        "        length += 1\n",
        "      curr = head\n",
        "      index = 0\n",
        "      while curr != None:\n",
        "        if index == center:\n",
        "          return curr\n",
        "        curr = curr.next\n",
        "        index += 1\n",
        "\n",
        "listNodes = [toListNode([1, 2, 3]),\n",
        "             toListNode([1, 2, 3, 4]),\n",
        "             toListNode([1])]\n",
        "\n",
        "for i in range(0, len(listNodes)):\n",
        "  node = Solution().middleNode(listNodes[i])\n",
        "  print(node.toList())"
      ],
      "execution_count": 19,
      "outputs": [
        {
          "output_type": "stream",
          "text": [
            "[2, 3]\n",
            "[3, 4]\n",
            "[1]\n"
          ],
          "name": "stdout"
        }
      ]
    },
    {
      "cell_type": "markdown",
      "metadata": {
        "id": "hIyJfqYkYYKQ"
      },
      "source": [
        "Given a linked list, containing unique numbers, return whether or not it has a cycle. **[Microsoft]** [LeetCode](https://leetcode.com/problems/linked-list-cycle/)\n",
        "\n",
        "Note: a cycle is a circular arrangement (i.e. one node points back to a previous node)\n",
        "\n",
        "Ex: Given the following linked lists...\n",
        "```\n",
        "1->2->3->1 -> true (3 points back to 1)\n",
        "1->2->3 -> false\n",
        "1->1 true (1 points to itself)\n",
        "```"
      ]
    },
    {
      "cell_type": "code",
      "metadata": {
        "id": "y_JCW5qRYpxz",
        "colab": {
          "base_uri": "https://localhost:8080/"
        },
        "outputId": "57a3fac0-cbb8-4a82-ed7b-15842fafa7f2"
      },
      "source": [
        "class Solution:\n",
        "    def hasCycle(self, head: ListNode) -> bool:\n",
        "        slow = head \n",
        "        fast = head\n",
        "        while fast and fast.next:\n",
        "            slow = slow.next\n",
        "            fast = fast.next.next\n",
        "            if slow == fast:\n",
        "                return True\n",
        "        return False\n",
        "\n",
        "listNodes = [toCircularListNode([1, 2, 3], 1),\n",
        "             toCircularListNode([1, 2, 3, 4], -1),\n",
        "             toCircularListNode([1], 0)]\n",
        "\n",
        "for i in range(0, len(listNodes)):\n",
        "  node = Solution().hasCycle(listNodes[i])\n",
        "  print(node)"
      ],
      "execution_count": 20,
      "outputs": [
        {
          "output_type": "stream",
          "text": [
            "True\n",
            "False\n",
            "True\n"
          ],
          "name": "stdout"
        }
      ]
    },
    {
      "cell_type": "markdown",
      "metadata": {
        "id": "Blr4JgqREwlk"
      },
      "source": [
        "Given a potentially cyclical linked list where each value is unique, return the node at which the cycle starts. If the list does not contain a cycle, return null. **[Apple]** [LeetCode](https://leetcode.com/problems/linked-list-cycle-ii/)\n",
        "\n",
        "Ex: Given the following linked lists...\n",
        "```\n",
        "1->2->3, return null\n",
        "1->2->3->4->5->2 (5 points back to 2), return a reference to the node containing 2\n",
        "1->9->3->7->7 (7 points to itself), return a reference to the node containing 7\n",
        "```"
      ]
    },
    {
      "cell_type": "code",
      "metadata": {
        "id": "97tIEvAOFAL7",
        "colab": {
          "base_uri": "https://localhost:8080/"
        },
        "outputId": "59df3fdf-b833-42b3-c179-0592d1528ba9"
      },
      "source": [
        "class Solution:\n",
        "    def detectCycle(self, head: ListNode) -> ListNode:\n",
        "        myMap = {}\n",
        "        curr = head\n",
        "        while curr != None:\n",
        "            if curr in myMap:\n",
        "                return curr\n",
        "            else:\n",
        "                myMap[curr] = 1\n",
        "            curr = curr.next\n",
        "        return None\n",
        "\n",
        "listNodes = [toCircularListNode([1, 2, 3], -1),\n",
        "             toCircularListNode([1, 2, 3, 4, 5], 1),\n",
        "             toCircularListNode([1, 9, 3, 7], 3)]\n",
        "\n",
        "for i in range(0, len(listNodes)):\n",
        "  node = Solution().detectCycle(listNodes[i])\n",
        "  if node:\n",
        "    print(node.val)\n",
        "  else:\n",
        "    print(None)"
      ],
      "execution_count": 21,
      "outputs": [
        {
          "output_type": "stream",
          "text": [
            "None\n",
            "2\n",
            "7\n"
          ],
          "name": "stdout"
        }
      ]
    },
    {
      "cell_type": "markdown",
      "metadata": {
        "id": "qrst0gf1T8R9"
      },
      "source": [
        "Given a linked list, containing unique values, reverse it, and return the result. **[Facebook]** [LeetCode](https://leetcode.com/problems/reverse-linked-list/)\n",
        "\n",
        "Ex: Given the following linked lists...\n",
        "```\n",
        "1->2->3->null, return a reference to the node that contains 3 which points to a list that looks like the following: 3->2->1->null\n",
        "7->15->9->2->null, return a reference to the node that contains 2 which points to a list that looks like the following: 2->9->15->7->null\n",
        "1->null, return a reference to the node that contains 1 which points to a list that looks like the following: 1->null\n",
        "```"
      ]
    },
    {
      "cell_type": "code",
      "metadata": {
        "id": "AuDFqOmyUHiH",
        "colab": {
          "base_uri": "https://localhost:8080/"
        },
        "outputId": "611c85fe-c3d1-47cb-e118-365e8142bc2b"
      },
      "source": [
        "class Solution:\n",
        "    def reverseList(self, head: ListNode) -> ListNode:\n",
        "        curr = head\n",
        "        prev = None\n",
        "        while curr != None:\n",
        "            temp = ListNode(curr.val)\n",
        "            temp.next = prev\n",
        "            prev = temp\n",
        "            curr = curr.next\n",
        "        return prev\n",
        "\n",
        "listNodes = [toListNode([1, 2, 3]),\n",
        "             toListNode([7, 15, 9, 2]),\n",
        "             toListNode([1])]\n",
        "\n",
        "for i in range(0, len(listNodes)):\n",
        "  node = Solution().reverseList(listNodes[i])\n",
        "  print(node.toList())"
      ],
      "execution_count": 22,
      "outputs": [
        {
          "output_type": "stream",
          "text": [
            "[3, 2, 1]\n",
            "[2, 9, 15, 7]\n",
            "[1]\n"
          ],
          "name": "stdout"
        }
      ]
    },
    {
      "cell_type": "markdown",
      "metadata": {
        "id": "ogt3bzGJ_Ue8"
      },
      "source": [
        "Given a string only containing the following characters (, ), {, }, [, and ] return whether or not the opening and closing characters are in a valid order. **[Google]** [LeetCode](https://leetcode.com/problems/valid-parentheses/)\n",
        "\n",
        "Ex: Given the following strings...\n",
        "```\n",
        "\"(){}[]\", return true\n",
        "\"(({[]}))\", return true\n",
        "\"{(})\", return false\n",
        "```\n"
      ]
    },
    {
      "cell_type": "code",
      "metadata": {
        "colab": {
          "base_uri": "https://localhost:8080/"
        },
        "id": "_quBtCSq_4Z0",
        "outputId": "889aab3b-9c6e-4470-e4b9-137b2db3851b"
      },
      "source": [
        "class Solution:\n",
        "    def isValid(self, s: str) -> bool:\n",
        "        dict = {\")\" : \"(\", \"]\" : \"[\", \"}\":\"{\"}\n",
        "        stack = []\n",
        "        for c in s:\n",
        "            if c in dict.values():\n",
        "                stack.append(c)\n",
        "            elif c in dict.keys():\n",
        "                if not stack or dict[c] != stack.pop():\n",
        "                    return False\n",
        "            else:\n",
        "                return False\n",
        "        return not stack\n",
        "\n",
        "inputs = [\"(){}[]\",\n",
        "          \"(({[]}))\",\n",
        "          \"{(})\"]\n",
        "\n",
        "for i in range(0, len(inputs)):\n",
        "  print(Solution().isValid(inputs[i]))"
      ],
      "execution_count": 23,
      "outputs": [
        {
          "output_type": "stream",
          "text": [
            "True\n",
            "True\n",
            "False\n"
          ],
          "name": "stdout"
        }
      ]
    },
    {
      "cell_type": "markdown",
      "metadata": {
        "id": "dzc0vNh2JTuY"
      },
      "source": [
        "Given two strings s and t, which represents a sequence of keystrokes, where # denotes a backspace, return whether or not the sequences produce the same result. **[Amazon]** [LeetCode](https://leetcode.com/problems/backspace-string-compare/)\n",
        "\n",
        "Ex: Given the following strings...\n",
        "```\n",
        "s = \"ABC#\", t = \"CD##AB\", return true\n",
        "s = \"como#pur#ter\", t = \"computer\", return true\n",
        "s = \"cof#dim#ng\", t = \"code\", return false\n",
        "```"
      ]
    },
    {
      "cell_type": "code",
      "metadata": {
        "colab": {
          "base_uri": "https://localhost:8080/"
        },
        "id": "tdLr41abJdKe",
        "outputId": "01e7847a-c7df-4968-aa0a-f551fed9e98c"
      },
      "source": [
        "class Solution:\n",
        "    def getNewString(self, s: str) -> str:\n",
        "        newS = []\n",
        "        for c in s:\n",
        "            if c == \"#\":\n",
        "                if newS:\n",
        "                    newS.pop()\n",
        "            else:\n",
        "                newS.append(c)\n",
        "        return newS\n",
        "    \n",
        "    def backspaceCompare(self, s: str, t: str) -> bool:\n",
        "        newS = self.getNewString(s)\n",
        "        newT = self.getNewString(t)\n",
        "        return newS == newT\n",
        "\n",
        "s = [\"ABC#\", \"como#pur#ter\", \"cof#dim#ng\"]\n",
        "t = [\"CD##AB\", \"computer\", \"code\"]\n",
        "\n",
        "for i in range(0, len(s)):\n",
        "  print(Solution().backspaceCompare(s[i], t[i]))"
      ],
      "execution_count": 24,
      "outputs": [
        {
          "output_type": "stream",
          "text": [
            "True\n",
            "True\n",
            "False\n"
          ],
          "name": "stdout"
        }
      ]
    },
    {
      "cell_type": "markdown",
      "metadata": {
        "id": "Ugj8ur2ZrBKM"
      },
      "source": [
        "Given a string s containing only lowercase letters, continuously remove adjacent characters that are the same and return the result. **[Facebook]** [LeetCode](https://leetcode.com/problems/remove-all-adjacent-duplicates-in-string/)\n",
        "\n",
        "Ex: Given the following strings...\n",
        "```\n",
        "s = \"abccba\", return \"\"\n",
        "s = \"foobar\", return \"fbar\"\n",
        "s = \"abccbefggfe\", return \"a\"\n",
        "```"
      ]
    },
    {
      "cell_type": "code",
      "metadata": {
        "colab": {
          "base_uri": "https://localhost:8080/"
        },
        "id": "3QA8vIHXrCtF",
        "outputId": "42fdadae-73b2-41c5-ef49-f435e3fa8150"
      },
      "source": [
        "class Solution:\n",
        "    def removeDuplicates(self, s: str) -> str:\n",
        "        unique = set(s)\n",
        "        while True:\n",
        "            flag = False\n",
        "            for c in unique:\n",
        "                if c*2 in s:\n",
        "                    s = s.replace(c*2,'')\n",
        "                    flag = True\n",
        "            if not flag:\n",
        "                break\n",
        "        return s\n",
        "\n",
        "s = [\"abccba\", \"foobar\", \"abccbefggfe\"]\n",
        "\n",
        "for i in range(0, len(s)):\n",
        "  print(Solution().removeDuplicates(s[i]))"
      ],
      "execution_count": 25,
      "outputs": [
        {
          "output_type": "stream",
          "text": [
            "\n",
            "fbar\n",
            "a\n"
          ],
          "name": "stdout"
        }
      ]
    },
    {
      "cell_type": "markdown",
      "metadata": {
        "id": "Zt5FF0GalX-L"
      },
      "source": [
        "Given two arrays of numbers, where the first array is a subset of the second array, return an array containing all the next greater elements for each element in the first array, in the second array. If there is no greater element for any element, output -1 for that number. **[Amazon]** [LeetCode](https://leetcode.com/problems/next-greater-element-i/)\n",
        "\n",
        "Ex: Given the following arrays…\n",
        "```\n",
        "nums1 = [4,1,2], nums2 = [1,3,4,2], return [-1, 3, -1] because no element in nums2 is greater than 4, 3 is the first number in nums2 greater than 1, and no element in nums2 is greater than 2.\n",
        "nums1 = [2,4], nums2 = [1,2,3,4], return [3, -1] because 3 is the first greater element that occurs in nums2 after 2 and no element is greater than 4.\n",
        "```"
      ]
    },
    {
      "cell_type": "code",
      "metadata": {
        "id": "zFZUL-g9lhQi",
        "colab": {
          "base_uri": "https://localhost:8080/"
        },
        "outputId": "99171412-2ccd-48cc-db92-545822ce5599"
      },
      "source": [
        "class Solution:\n",
        "    def nextGreaterElement(self, nums1, nums2):\n",
        "        out = []\n",
        "        lenN2 = len(nums2)\n",
        "        for n1 in nums1:\n",
        "            index = nums2.index(n1) + 1\n",
        "            large = -1\n",
        "            if index < lenN2:\n",
        "                for i in range(index,lenN2):\n",
        "                    if nums2[i] > n1:\n",
        "                        large = nums2[i]\n",
        "                        break\n",
        "            out.append(large)\n",
        "        return out\n",
        "\n",
        "num1 = [[4, 1, 2], [2, 4]]\n",
        "num2 = [[1, 3, 4, 2], [1, 2, 3, 4]]\n",
        "\n",
        "for i in range(0, len(num1)):\n",
        "  print(Solution().nextGreaterElement(num1[i], num2[i]))"
      ],
      "execution_count": 26,
      "outputs": [
        {
          "output_type": "stream",
          "text": [
            "[-1, 3, -1]\n",
            "[3, -1]\n"
          ],
          "name": "stdout"
        }
      ]
    },
    {
      "cell_type": "markdown",
      "metadata": {
        "id": "CC_wvQfwINQc"
      },
      "source": [
        "Create a class CallCounter that tracks the number of calls a client has made within the last 3 seconds. Your class should contain one method, ping(int t) that receives the current timestamp (in milliseconds) of a new call being made and returns the number of calls made within the last 3 seconds.\n",
        "Note: you may assume that the time associated with each subsequent call to ping is strictly increasing. **[Google]** [LeetCode](https://leetcode.com/problems/number-of-recent-calls/)\n",
        "\n",
        "Ex: Given the following calls to ping…\n",
        "```\n",
        "ping(1), return 1 (1 call within the last 3 seconds)\n",
        "ping(300), return 2 (2 calls within the last 3 seconds)\n",
        "ping(3000), return 3 (3 calls within the last 3 seconds)\n",
        "ping(3002), return 3 (3 calls within the last 3 seconds)\n",
        "ping(7000), return 1 (1 call within the last 3 seconds)\n",
        "```"
      ]
    },
    {
      "cell_type": "code",
      "metadata": {
        "id": "ecO5UjLJIcGN",
        "colab": {
          "base_uri": "https://localhost:8080/"
        },
        "outputId": "1016c11f-44c3-45eb-e9a1-61a5d997577c"
      },
      "source": [
        "class RecentCounter:\n",
        "\n",
        "    queue = []\n",
        "    \n",
        "    def __init__(self):\n",
        "        self.queue = []\n",
        "        \n",
        "    def ping(self, t: int) -> int:\n",
        "        self.queue.append(t)\n",
        "        while self.queue[0] < t - 3000:\n",
        "            self.queue.remove(self.queue[0])\n",
        "        return len(self.queue)\n",
        "\n",
        "# Your RecentCounter object will be instantiated and called as such:\n",
        "obj = RecentCounter()\n",
        "output = []\n",
        "output.append(obj.ping(1))\n",
        "output.append(obj.ping(300))\n",
        "output.append(obj.ping(3000))\n",
        "output.append(obj.ping(3002))\n",
        "output.append(obj.ping(7000))\n",
        "print(output)"
      ],
      "execution_count": 27,
      "outputs": [
        {
          "output_type": "stream",
          "text": [
            "[1, 2, 3, 3, 1]\n"
          ],
          "name": "stdout"
        }
      ]
    },
    {
      "cell_type": "markdown",
      "metadata": {
        "id": "rQ5KX7OwsMAE"
      },
      "source": [
        "Design a class, MovingAverage, which contains a method, next that is responsible for returning the moving average from a stream of integers. **[Microsoft]** [LeetCode](https://leetcode.com/problems/moving-average-from-data-stream/)\n",
        "\n",
        "Note: a moving average is the average of a subset of data at a given point in time.\n",
        "\n",
        "Ex: Given the following series of events...\n",
        "```\n",
        "// i.e. the moving average has a capacity of 3.\n",
        "MovingAverage movingAverage = new MovingAverage(3);\n",
        "m.next(3) returns 3 because (3 / 1) = 3\n",
        "m.next(5) returns 4 because (3 + 5) / 2 = 4 \n",
        "m.next(7) = returns 5 because (3 + 5 + 7) / 3 = 5\n",
        "m.next(6) = returns 6 because (5 + 7 + 6) / 3 = 6\n",
        "```"
      ]
    },
    {
      "cell_type": "code",
      "metadata": {
        "id": "d6LEP8ektQgR",
        "colab": {
          "base_uri": "https://localhost:8080/"
        },
        "outputId": "f771996f-22eb-4907-fd86-d9f1b22b1a59"
      },
      "source": [
        "class MovingAverage:\n",
        "\n",
        "    queue = []\n",
        "    \n",
        "    def __init__(self):\n",
        "        self.queue = []\n",
        "        \n",
        "    def next(self, t: int) -> float:\n",
        "      self.queue.append(t)\n",
        "      lenQ = len(self.queue)\n",
        "      if lenQ == 1:\n",
        "        return self.queue[0] * 1.0\n",
        "      elif lenQ == 2:\n",
        "        sum = 0\n",
        "        for el in self.queue:\n",
        "          sum += el\n",
        "        return sum/2\n",
        "      else:\n",
        "        sum = 0\n",
        "        last = self.queue[-3:]\n",
        "        for el in last:\n",
        "          sum += el\n",
        "        return sum/3\n",
        "\n",
        "# Your MovingAverage object will be instantiated and called as such:\n",
        "obj = MovingAverage()\n",
        "output = []\n",
        "output.append(obj.next(3))\n",
        "output.append(obj.next(5))\n",
        "output.append(obj.next(7))\n",
        "output.append(obj.next(6))\n",
        "print(output)"
      ],
      "execution_count": 28,
      "outputs": [
        {
          "output_type": "stream",
          "text": [
            "[3.0, 4.0, 5.0, 6.0]\n"
          ],
          "name": "stdout"
        }
      ]
    },
    {
      "cell_type": "markdown",
      "metadata": {
        "id": "vtY3ueB34YZr"
      },
      "source": [
        "Design a class to implement a stack using only a single queue. Your class, QueueStack, should support the following stack methods: push() (adding an item), pop() (removing an item), peek() (returning the top value without removing it), and empty() (whether or not the stack is empty). [LeetCode](https://leetcode.com/problems/implement-queue-using-stacks/)"
      ]
    },
    {
      "cell_type": "code",
      "metadata": {
        "id": "fkVfgton4n5x",
        "colab": {
          "base_uri": "https://localhost:8080/"
        },
        "outputId": "a9ece323-6b59-4c21-c9c4-1409a1284854"
      },
      "source": [
        "class MyQueue:\n",
        "\n",
        "    queue = []\n",
        "    \n",
        "    def __init__(self):\n",
        "        \"\"\"\n",
        "        Initialize your data structure here.\n",
        "        \"\"\"\n",
        "        self.queue = []\n",
        "\n",
        "    def push(self, x: int) -> None:\n",
        "        \"\"\"\n",
        "        Push element x to the back of queue.\n",
        "        \"\"\"\n",
        "        self.queue.append(x)\n",
        "        \n",
        "\n",
        "    def pop(self) -> int:\n",
        "        \"\"\"\n",
        "        Removes the element from in front of queue and returns that element.\n",
        "        \"\"\"\n",
        "        return self.queue.pop(0)\n",
        "        \n",
        "\n",
        "    def peek(self) -> int:\n",
        "        \"\"\"\n",
        "        Get the front element.\n",
        "        \"\"\"\n",
        "        return self.queue[0]\n",
        "        \n",
        "\n",
        "    def empty(self) -> bool:\n",
        "        \"\"\"\n",
        "        Returns whether the queue is empty.\n",
        "        \"\"\"\n",
        "        return len(self.queue) == 0\n",
        "        \n",
        "\n",
        "\n",
        "# Your MyQueue object will be instantiated and called as such:\n",
        "obj = MyQueue()\n",
        "obj.push(1)\n",
        "obj.push(2)\n",
        "output = []\n",
        "output.append(obj.peek())\n",
        "output.append(obj.pop())\n",
        "output.append(obj.empty())\n",
        "print(output)"
      ],
      "execution_count": 29,
      "outputs": [
        {
          "output_type": "stream",
          "text": [
            "[1, 1, False]\n"
          ],
          "name": "stdout"
        }
      ]
    },
    {
      "cell_type": "markdown",
      "metadata": {
        "id": "2aK2okmDudMR"
      },
      "source": [
        "Given the reference to the root of a binary search tree and a search value, return the reference to the node that contains the value if it exists and null otherwise. **[Google]** [LeetCode](https://leetcode.com/problems/search-in-a-binary-search-tree/)\n",
        "\n",
        "Note: all values in the binary search tree will be unique.\n",
        "\n",
        "Ex: Given the tree...\n",
        "\n",
        "        3\n",
        "       / \\\n",
        "      1   4\n",
        "and the search value 1 return a reference to the node containing 1.\n",
        "Ex: Given the tree\n",
        "\n",
        "        7\n",
        "       / \\\n",
        "      5   9\n",
        "         / \\ \n",
        "        8   10\n",
        "and the search value 9 return a reference to the node containing 9.\n",
        "Ex: Given the tree\n",
        "\n",
        "        8\n",
        "       / \\\n",
        "      6   9\n",
        "and the search value 7 return null."
      ]
    },
    {
      "cell_type": "code",
      "metadata": {
        "id": "pyAtwjmaxDgp",
        "colab": {
          "base_uri": "https://localhost:8080/"
        },
        "outputId": "e7b773cc-a8ff-4395-d75a-8bf69e2b9a8a"
      },
      "source": [
        "# Definition for a binary tree node.\n",
        "class TreeNode:\n",
        "  def __init__(self, val=0, left=None, right=None):\n",
        "    self.val = val\n",
        "    self.left = left\n",
        "    self.right = right\n",
        "\n",
        "class Solution:\n",
        "    def searchBST(self, root: TreeNode, val: int) -> TreeNode:\n",
        "        if root == None:\n",
        "            return None\n",
        "        if root.val == val:\n",
        "            return root\n",
        "        elif root.val < val: # traverse right tree\n",
        "            return self.searchBST(root.right,val)\n",
        "        else: # traverse left tree\n",
        "            return self.searchBST(root.left,val)\n",
        "\n",
        "left = TreeNode(1)\n",
        "right = TreeNode(4)\n",
        "root = TreeNode(3, left, right)\n",
        "obj = Solution()\n",
        "print(obj.searchBST(root,1))\n",
        "print(obj.searchBST(root,5))"
      ],
      "execution_count": 30,
      "outputs": [
        {
          "output_type": "stream",
          "text": [
            "<__main__.TreeNode object at 0x7f67cf7ac350>\n",
            "None\n"
          ],
          "name": "stdout"
        }
      ]
    },
    {
      "cell_type": "markdown",
      "metadata": {
        "id": "PWktA2d4tEkA"
      },
      "source": [
        "Given a binary search tree, rearrange the tree such that it forms a linked list where all its values are in ascending order. [LeetCode](https://leetcode.com/problems/increasing-order-search-tree/)\n",
        "\n",
        "Ex: Given the following tree...\n",
        "\n",
        "        5\n",
        "       / \\\n",
        "      1   6\n",
        "return...\n",
        "```\n",
        "1\n",
        " \\\n",
        "  5\n",
        "   \\\n",
        "    6\n",
        "```\n",
        "Ex: Given the following tree...\n",
        "```\n",
        "       5\n",
        "      / \\\n",
        "    2    9\n",
        "   / \\ \n",
        "  1   3 \n",
        "```\n",
        "return...\n",
        "```\n",
        "1\n",
        " \\\n",
        "  2\n",
        "   \\\n",
        "    3\n",
        "     \\\n",
        "      5\n",
        "       \\\n",
        "        9\n",
        "```\n",
        "Ex: Given the following tree...\n",
        "```\n",
        "5\n",
        " \\\n",
        "  6\n",
        "```\n",
        "return...\n",
        "```\n",
        "5\n",
        " \\\n",
        "  6\n",
        "```"
      ]
    },
    {
      "cell_type": "code",
      "metadata": {
        "id": "NnWzgAj2tE-1",
        "outputId": "c7c83b07-9c5c-4fee-89e8-b3a39cf93932",
        "colab": {
          "base_uri": "https://localhost:8080/"
        }
      },
      "source": [
        "class Solution:\n",
        "    def increasingBST(self, root: TreeNode) -> TreeNode:\n",
        "        def inorder(node):\n",
        "            if node:\n",
        "                inorder(node.left)\n",
        "                node.left = None\n",
        "                self.curr.right = node\n",
        "                self.curr = node\n",
        "                inorder(node.right)\n",
        "        \n",
        "        ans = self.curr = TreeNode(None)\n",
        "        inorder(root)\n",
        "        return ans.right\n",
        "\n",
        "left = TreeNode(1)\n",
        "right = TreeNode(4)\n",
        "root = TreeNode(3, left, right)\n",
        "obj = Solution()\n",
        "print(obj.increasingBST(root).val)"
      ],
      "execution_count": 31,
      "outputs": [
        {
          "output_type": "stream",
          "text": [
            "1\n"
          ],
          "name": "stdout"
        }
      ]
    }
  ]
}