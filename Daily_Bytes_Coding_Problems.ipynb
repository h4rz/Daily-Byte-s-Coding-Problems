{
  "nbformat": 4,
  "nbformat_minor": 0,
  "metadata": {
    "colab": {
      "name": "Daily Bytes Coding Problems.ipynb",
      "provenance": [],
      "collapsed_sections": [],
      "authorship_tag": "ABX9TyMTWYlNYnD+eNPjfJguoHvV",
      "include_colab_link": true
    },
    "kernelspec": {
      "name": "python3",
      "display_name": "Python 3"
    },
    "language_info": {
      "name": "python"
    }
  },
  "cells": [
    {
      "cell_type": "markdown",
      "metadata": {
        "id": "view-in-github",
        "colab_type": "text"
      },
      "source": [
        "<a href=\"https://colab.research.google.com/github/h4rz/Daily-Byte-s-Coding-Problems/blob/main/Daily_Bytes_Coding_Problems.ipynb\" target=\"_parent\"><img src=\"https://colab.research.google.com/assets/colab-badge.svg\" alt=\"Open In Colab\"/></a>"
      ]
    },
    {
      "cell_type": "markdown",
      "metadata": {
        "id": "3gDavL2RhxEN"
      },
      "source": [
        "# Daily Byte's Question\n",
        "\n",
        "https://thedailybyte.dev/"
      ]
    },
    {
      "cell_type": "code",
      "metadata": {
        "id": "HGhJMZAZmi6d"
      },
      "source": [
        "# Utils\n",
        "def reverse(input, is_debug = False):\n",
        "  reversed = input[::-1]\n",
        "  if is_debug:\n",
        "    print(\"Reverse of {} -> {}\".format(input, reversed))\n",
        "  return reversed\n",
        "\n",
        "def is_palindrome(input, is_debug = False):\n",
        "  cleaned_input = \"\"\n",
        "  for s in input:\n",
        "    if s.isalnum():\n",
        "      cleaned_input += s.lower()\n",
        "  if is_debug:\n",
        "      print(\"After removing special chars and spaces {}\".format(cleaned_input))\n",
        "  return cleaned_input == reverse(cleaned_input, is_debug)"
      ],
      "execution_count": 1,
      "outputs": []
    },
    {
      "cell_type": "markdown",
      "metadata": {
        "id": "hAt-j7ipiIO4"
      },
      "source": [
        "Given a string, reverse all of its characters and return the resulting string. **[Google]**\n",
        "\n",
        "Ex: Given the following strings...\n",
        "\n",
        "```\n",
        "“Cat”, return “taC”\n",
        "“The Daily Byte”, return \"etyB yliaD ehT”\n",
        "“civic”, return “civic”\n",
        "```"
      ]
    },
    {
      "cell_type": "code",
      "metadata": {
        "colab": {
          "base_uri": "https://localhost:8080/"
        },
        "id": "0nIb97soiDK6",
        "outputId": "5cc85aac-e53d-458d-a4fc-bf1995290d1a"
      },
      "source": [
        "inputs = [\"Cat\", \"The Daily Byte\", \"civic\"]\n",
        "\n",
        "for input in inputs:\n",
        "  print(reverse(input))"
      ],
      "execution_count": 2,
      "outputs": [
        {
          "output_type": "stream",
          "text": [
            "taC\n",
            "etyB yliaD ehT\n",
            "civic\n"
          ],
          "name": "stdout"
        }
      ]
    },
    {
      "cell_type": "markdown",
      "metadata": {
        "id": "4FvpxKyalr7H"
      },
      "source": [
        "Given a string, return whether or not it forms a palindrome ignoring case and non-alphabetical characters. **[Facebook]** [LeetCode](https://leetcode.com/problems/valid-palindrome/)\n",
        "\n",
        "Note: a palindrome is a sequence of characters that reads the same forwards and backwards.\n",
        "\n",
        "Ex: Given the following strings...\n",
        "```\n",
        "\"level\", return true\n",
        "\"algorithm\", return false\n",
        "\"A man, a plan, a canal: Panama.\", return true\n",
        "```"
      ]
    },
    {
      "cell_type": "code",
      "metadata": {
        "colab": {
          "base_uri": "https://localhost:8080/"
        },
        "id": "sSMilFEbl3US",
        "outputId": "c12cebf4-4e3e-49a5-b2c0-567944e89816"
      },
      "source": [
        "inputs = [\"level\", \"algorithm\", \"A man, a plan, a canal: Panama.\"]\n",
        "\n",
        "for input in inputs:\n",
        "  print(is_palindrome(input))"
      ],
      "execution_count": 3,
      "outputs": [
        {
          "output_type": "stream",
          "text": [
            "True\n",
            "False\n",
            "True\n"
          ],
          "name": "stdout"
        }
      ]
    },
    {
      "cell_type": "markdown",
      "metadata": {
        "id": "tFXGcC4hw8kO"
      },
      "source": [
        "Given a string representing the sequence of moves a robot vacuum makes, return whether or not it will return to its original position. The string will only contain L, R, U, and D characters, representing left, right, up, and down respectively. **[Amazon]** [LeetCode](https://leetcode.com/problems/robot-return-to-origin/)\n",
        "\n",
        "Ex: Given the following strings...\n",
        "```\n",
        "\"LR\", return true\n",
        "\"URURD\", return false\n",
        "\"RUULLDRD\", return true\n",
        "```"
      ]
    },
    {
      "cell_type": "code",
      "metadata": {
        "colab": {
          "base_uri": "https://localhost:8080/"
        },
        "id": "VOHzC3vTw7oe",
        "outputId": "08990d7c-50b9-4570-a460-6d3fb6645e78"
      },
      "source": [
        "def will_return_og_pos(input):\n",
        "  count_l_r = 0\n",
        "  count_u_d = 0\n",
        "  for i in input:\n",
        "    if i == \"L\":\n",
        "      count_l_r += 1\n",
        "    if i == \"R\":\n",
        "      count_l_r -= 1\n",
        "    if i == \"U\":\n",
        "      count_u_d += 1\n",
        "    if i == \"D\":\n",
        "      count_u_d -= 1\n",
        "  return count_l_r == 0 and count_u_d == 0\n",
        "\n",
        "inputs = [\"LR\", \"URURD\", \"RUULLDRD\"]\n",
        "\n",
        "for input in inputs:\n",
        "  print(will_return_og_pos(input))"
      ],
      "execution_count": 4,
      "outputs": [
        {
          "output_type": "stream",
          "text": [
            "True\n",
            "False\n",
            "True\n"
          ],
          "name": "stdout"
        }
      ]
    },
    {
      "cell_type": "markdown",
      "metadata": {
        "id": "EY7s-lhk_VuI"
      },
      "source": [
        "Given a string, return whether or not it uses capitalization correctly. A string correctly uses capitalization if all letters are capitalized, no letters are capitalized, or only the first letter is capitalized. **[Google]** [LeetCode](https://leetcode.com/problems/detect-capital/)\n",
        "\n",
        "Ex: Given the following strings...\n",
        "```\n",
        "\"USA\", return true\n",
        "\"Calvin\", return true\n",
        "\"compUter\", return false\n",
        "\"coding\", return true\n",
        "```"
      ]
    },
    {
      "cell_type": "code",
      "metadata": {
        "id": "EH8WmcE1_eac",
        "colab": {
          "base_uri": "https://localhost:8080/"
        },
        "outputId": "70f6ed4a-58c8-4fd8-a386-1e26f764f96f"
      },
      "source": [
        "def detectCapitalUse(input):\n",
        "  if input == input.lower() or input == input.upper():\n",
        "    return True\n",
        "  elif input[0].isupper() and input[1:].islower():\n",
        "    return True\n",
        "  else:\n",
        "    return False\n",
        "\n",
        "inputs = [\"USA\", \"Calvin\", \"compUter\", \"coding\"]\n",
        "\n",
        "for input in inputs:\n",
        "  print(detectCapitalUse(input))"
      ],
      "execution_count": 5,
      "outputs": [
        {
          "output_type": "stream",
          "text": [
            "True\n",
            "True\n",
            "False\n",
            "True\n"
          ],
          "name": "stdout"
        }
      ]
    },
    {
      "cell_type": "markdown",
      "metadata": {
        "id": "NXPscDbKCBG2"
      },
      "source": [
        "Given two binary strings (strings containing only 1s and 0s) return their sum (also as a binary string). **[Apple]** [LeetCode](https://leetcode.com/problems/add-binary/)\n",
        "\n",
        "Note: neither binary string will contain leading 0s unless the string itself is 0\n",
        "\n",
        "Ex: Given the following binary strings...\n",
        "```\n",
        "\"100\" + \"1\", return \"101\"\n",
        "\"11\" + \"1\", return \"100\"\n",
        "\"1\" + \"0\", return  \"1\"\n",
        "```"
      ]
    },
    {
      "cell_type": "code",
      "metadata": {
        "id": "V2ihNhWKCJUR",
        "colab": {
          "base_uri": "https://localhost:8080/"
        },
        "outputId": "93473df4-838a-4a47-8faa-970ffe3cba2f"
      },
      "source": [
        "def toDecimal(numString):\n",
        "  curr = int(numString[0])\n",
        "  for i in numString[1:]:\n",
        "    curr = (2 * curr) + int(i)\n",
        "  return curr\n",
        "\n",
        "def toBinary(num):\n",
        "  bin = \"\"\n",
        "  if num == 0:\n",
        "      return \"0\"\n",
        "  while num != 0:\n",
        "    bin += str(num % 2)\n",
        "    num = num // 2\n",
        "  return bin[::-1]\n",
        "\n",
        "def addBinary(a, b):\n",
        "  a = toDecimal(a)\n",
        "  b = toDecimal(b)\n",
        "  c = a+b\n",
        "  return toBinary(c)\n",
        "\n",
        "a = [\"100\", \"11\", \"0\",\"1\"]\n",
        "b = [\"1\", \"1\", \"0\", \"0\"]\n",
        "\n",
        "for i in range(len(a)):\n",
        "  print(addBinary(a[i],b[i]))"
      ],
      "execution_count": 6,
      "outputs": [
        {
          "output_type": "stream",
          "text": [
            "101\n",
            "100\n",
            "0\n",
            "1\n"
          ],
          "name": "stdout"
        }
      ]
    },
    {
      "cell_type": "markdown",
      "metadata": {
        "id": "AozImoZeOA6p"
      },
      "source": [
        "Given an array of strings, return the longest common prefix that is shared amongst all strings. **[Microsoft]** [LeetCode](https://leetcode.com/problems/longest-common-prefix/)\n",
        "\n",
        "Note: you may assume all strings only contain lowercase alphabetical characters.\n",
        "\n",
        "Ex: Given the following arrays...\n",
        "```\n",
        "[\"colorado\", \"color\", \"cold\"], return \"col\"\n",
        "[\"a\", \"b\", \"c\"], return \"\"\n",
        "[\"spot\", \"spotty\", \"spotted\"], return \"spot\"\n",
        "```"
      ]
    },
    {
      "cell_type": "code",
      "metadata": {
        "colab": {
          "base_uri": "https://localhost:8080/"
        },
        "id": "wLdEOUuJWNlL",
        "outputId": "aebb1923-d468-4f72-ed35-4a670e84a5a9"
      },
      "source": [
        "class Solution:\n",
        "    def longestCommonPrefix(self, strs):\n",
        "        if len(strs) == 0:\n",
        "            return \"\"\n",
        "        if len(strs) == 1:\n",
        "            return strs[0]\n",
        "        minS = min(strs)\n",
        "        prefix = \"\"\n",
        "        for word in strs:\n",
        "            if prefix:\n",
        "                minS = prefix\n",
        "            i = len(minS)\n",
        "            currPref = \"\"\n",
        "            while i != 0:\n",
        "                if minS[:i] == word[:i]:\n",
        "                    currPref = minS[:i]\n",
        "                    break\n",
        "                else:\n",
        "                    i -= 1\n",
        "            if not currPref:\n",
        "                return currPref\n",
        "            else:\n",
        "                prefix = currPref\n",
        "        return prefix\n",
        "\n",
        "\n",
        "inputs = [[\"colorado\", \"color\", \"cold\"],\n",
        "         [\"a\", \"b\", \"c\"],\n",
        "         [\"spot\", \"spotty\", \"spotted\"]]\n",
        "\n",
        "for input in inputs:\n",
        "  print(Solution().longestCommonPrefix(input))"
      ],
      "execution_count": 7,
      "outputs": [
        {
          "output_type": "stream",
          "text": [
            "col\n",
            "\n",
            "spot\n"
          ],
          "name": "stdout"
        }
      ]
    },
    {
      "cell_type": "markdown",
      "metadata": {
        "id": "QNJlQo-efCxl"
      },
      "source": [
        "Given a string and the ability to delete at most one character, return whether or not it can form a palindrome. **[Facebook]** [LeetCode](https://leetcode.com/problems/valid-palindrome-ii/)\n",
        "\n",
        "Note: a palindrome is a sequence of characters that reads the same forwards and backwards.\n",
        "\n",
        "Ex: Given the following strings...\n",
        "```\n",
        "\"abcba\", return true\n",
        "\"foobof\", return true (remove the first 'o', the second 'o', or 'b')\n",
        "\"abccab\", return false\n",
        "```"
      ]
    },
    {
      "cell_type": "code",
      "metadata": {
        "id": "eT5CQrL6fJZ8",
        "colab": {
          "base_uri": "https://localhost:8080/"
        },
        "outputId": "18cdd482-3526-49e8-9b1a-3df7df5156c0"
      },
      "source": [
        "class Solution:\n",
        "    def validPalindrome(self, s: str) -> bool:\n",
        "        left, right = 0, len(s) - 1\n",
        "        while left < right:\n",
        "            if s[left] != s[right]:\n",
        "                one, two = s[left:right], s[left + 1:right + 1]\n",
        "                return one == one[::-1] or two == two[::-1]\n",
        "            left, right = left + 1, right - 1\n",
        "        return True\n",
        "\n",
        "inputs = [\"abcba\", \"foobof\", \"abccab\"]\n",
        "for input in inputs:\n",
        "  print(Solution().validPalindrome(input))"
      ],
      "execution_count": 8,
      "outputs": [
        {
          "output_type": "stream",
          "text": [
            "True\n",
            "True\n",
            "False\n"
          ],
          "name": "stdout"
        }
      ]
    },
    {
      "cell_type": "markdown",
      "metadata": {
        "id": "AXacOKAjxnVQ"
      },
      "source": [
        "Given an array of integers, return whether or not two numbers sum to a given target, k. **[Google]** [LeetCode](https://leetcode.com/problems/two-sum/)\n",
        "\n",
        "Note: you may not sum a number with itself.\n",
        "\n",
        "Ex: Given the following...\n",
        "```\n",
        "[1, 3, 8, 2], k = 10, return true (8 + 2)\n",
        "[3, 9, 13, 7], k = 8, return false\n",
        "[4, 2, 6, 5, 2], k = 4, return true (2 + 2)\n",
        "```"
      ]
    },
    {
      "cell_type": "code",
      "metadata": {
        "colab": {
          "base_uri": "https://localhost:8080/"
        },
        "id": "d8IEFh7byUqt",
        "outputId": "c85bd574-6274-4ffa-fb3a-c26f450e8c98"
      },
      "source": [
        "class Solution:\n",
        "    def twoSum(self, nums, target):\n",
        "        dictionary = dict()\n",
        "        pos = 0\n",
        "        while pos < len(nums):\n",
        "            diff = target - nums[pos]\n",
        "            if (diff) not in dictionary:\n",
        "                dictionary[nums[pos]] = pos\n",
        "                pos += 1\n",
        "            else:\n",
        "                #return [dictionary[diff], pos]\n",
        "                return True\n",
        "        return False\n",
        "\n",
        "inputs = {\n",
        "    10 : [1, 3, 8, 2],\n",
        "    8 : [3, 9, 13, 7],\n",
        "    4 : [4, 2, 6, 5, 2]\n",
        "}\n",
        "\n",
        "for input in inputs:\n",
        "  print(Solution().twoSum(inputs[input],input))"
      ],
      "execution_count": 9,
      "outputs": [
        {
          "output_type": "stream",
          "text": [
            "True\n",
            "False\n",
            "True\n"
          ],
          "name": "stdout"
        }
      ]
    },
    {
      "cell_type": "markdown",
      "metadata": {
        "id": "SGNJJ1gOPpxp"
      },
      "source": [
        "Given a string representing your stones and another string representing a list of jewels, return the number of stones that you have that are also jewels. **[Amazon]** [LeetCode](https://leetcode.com/problems/jewels-and-stones/)\n",
        "\n",
        "Ex: Given the following jewels and stones...\n",
        "```\n",
        "jewels = \"abc\", stones = \"ac\", return 2\n",
        "jewels = \"Af\", stones = \"AaaddfFf\", return 3\n",
        "jewels = \"AYOPD\", stones = \"ayopd\", return 0\n",
        "```"
      ]
    },
    {
      "cell_type": "code",
      "metadata": {
        "id": "KfaQSmGYPvjq",
        "colab": {
          "base_uri": "https://localhost:8080/"
        },
        "outputId": "af7c0809-9a54-4cb4-ac40-5cc3c1359d87"
      },
      "source": [
        "class Solution:\n",
        "    def numJewelsInStones(self, jewels: str, stones: str) -> int:\n",
        "        count = 0\n",
        "        for s in stones:\n",
        "            for j in jewels:\n",
        "                if s == j:\n",
        "                    count += 1\n",
        "        return count\n",
        "\n",
        "jewels = [\"abc\", \"Af\", \"AYOPD\"]\n",
        "stones = [\"ac\", \"AaaddfFf\", \"ayopd\"]\n",
        "\n",
        "for i in range(len(jewels)):\n",
        "  print(Solution().numJewelsInStones(jewels[i], stones[i]))"
      ],
      "execution_count": 10,
      "outputs": [
        {
          "output_type": "stream",
          "text": [
            "2\n",
            "3\n",
            "0\n"
          ],
          "name": "stdout"
        }
      ]
    },
    {
      "cell_type": "markdown",
      "metadata": {
        "id": "-RC7YQa4vRM3"
      },
      "source": [
        "Given two strings s and t return whether or not s is an anagram of t.\n",
        "Note: An anagram is a word formed by reordering the letters of another word. **[Facebook]** [LeetCode](https://leetcode.com/problems/valid-anagram/)\n",
        "\n",
        "Ex: Given the following strings...\n",
        "```\n",
        "s = \"cat\", t = \"tac\", return true\n",
        "s = \"listen\", t = \"silent\", return true\n",
        "s = \"program\", t = \"function\", return false\n",
        "```"
      ]
    },
    {
      "cell_type": "code",
      "metadata": {
        "id": "taOlJKixvRj3",
        "colab": {
          "base_uri": "https://localhost:8080/"
        },
        "outputId": "3246bfc7-0565-464f-9823-44fc66cac974"
      },
      "source": [
        "class Solution:\n",
        "    def isAnagram(self, s: str, t: str) -> bool:\n",
        "        if len(s) != len(t):\n",
        "            return False\n",
        "        s_list = [c for c in s]\n",
        "        t_list = [c for c in t]\n",
        "        s_list.sort()\n",
        "        t_list.sort()\n",
        "        return s_list == t_list\n",
        "\n",
        "s = [\"cat\", \"listen\", \"program\"]\n",
        "t = [\"tac\", \"silent\", \"function\"]\n",
        "for i in range(len(s)):\n",
        "  print(Solution().isAnagram(s[i], t[i]))"
      ],
      "execution_count": 11,
      "outputs": [
        {
          "output_type": "stream",
          "text": [
            "True\n",
            "True\n",
            "False\n"
          ],
          "name": "stdout"
        }
      ]
    },
    {
      "cell_type": "markdown",
      "metadata": {
        "id": "O2h4CpE621UU"
      },
      "source": [
        "Given a string, return the index of its first unique character. If a unique character does not exist, return -1. **[Microsoft]** [LeetCode](https://leetcode.com/problems/first-unique-character-in-a-string/)\n",
        "\n",
        "Ex: Given the following strings...\n",
        "```\n",
        "\"abcabd\", return 2\n",
        "\"thedailybyte\", return 1\n",
        "\"developer\", return 0\n",
        "```"
      ]
    },
    {
      "cell_type": "code",
      "metadata": {
        "colab": {
          "base_uri": "https://localhost:8080/"
        },
        "id": "W-QPh4jQ3EMc",
        "outputId": "a0a0014c-0919-4a66-fdf8-14926de5caf3"
      },
      "source": [
        "class Solution:\n",
        "    def firstUniqChar(self, s: str) -> int:\n",
        "        '''\n",
        "        hashMap = dict()\n",
        "        for i in range(0, len(s)):\n",
        "            char = s[i]\n",
        "            if char in hashMap:\n",
        "                continue\n",
        "            if s.count(char) == 1:\n",
        "                return i\n",
        "            hashMap[char] = i\n",
        "        return -1\n",
        "        '''\n",
        "        alpha = 'abcdefghijklmnopqrstuvwxyz'\n",
        "        index = [s.index(char) for char in alpha if s.count(char) == 1]\n",
        "        return min(index) if len(index) > 0 else -1\n",
        "\n",
        "inputs = [\"abcabd\", \"thedailybyte\", \"developer\"]\n",
        "for input in inputs:\n",
        "  print(Solution().firstUniqChar(input))"
      ],
      "execution_count": 12,
      "outputs": [
        {
          "output_type": "stream",
          "text": [
            "2\n",
            "1\n",
            "0\n"
          ],
          "name": "stdout"
        }
      ]
    }
  ]
}