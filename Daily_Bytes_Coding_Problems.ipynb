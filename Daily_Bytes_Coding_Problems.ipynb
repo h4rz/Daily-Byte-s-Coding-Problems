{
  "nbformat": 4,
  "nbformat_minor": 0,
  "metadata": {
    "colab": {
      "name": "Daily Bytes Coding Problems.ipynb",
      "provenance": [],
      "collapsed_sections": [],
      "authorship_tag": "ABX9TyOsfZmtA+s/KqslWaAiI16f",
      "include_colab_link": true
    },
    "kernelspec": {
      "name": "python3",
      "display_name": "Python 3"
    },
    "language_info": {
      "name": "python"
    }
  },
  "cells": [
    {
      "cell_type": "markdown",
      "metadata": {
        "id": "view-in-github",
        "colab_type": "text"
      },
      "source": [
        "<a href=\"https://colab.research.google.com/github/h4rz/Daily-Byte-s-Coding-Problems/blob/main/Daily_Bytes_Coding_Problems.ipynb\" target=\"_parent\"><img src=\"https://colab.research.google.com/assets/colab-badge.svg\" alt=\"Open In Colab\"/></a>"
      ]
    },
    {
      "cell_type": "markdown",
      "metadata": {
        "id": "3gDavL2RhxEN"
      },
      "source": [
        "# Daily Byte's Question\n",
        "\n",
        "https://thedailybyte.dev/"
      ]
    },
    {
      "cell_type": "code",
      "metadata": {
        "id": "HGhJMZAZmi6d"
      },
      "source": [
        "# Utils\n",
        "# Definition for singly-linked list.\n",
        "class ListNode:\n",
        "    def __init__(self, val=0, next=None):\n",
        "        self.val = val\n",
        "        self.next = next\n",
        "\n",
        "    def getLength(self):\n",
        "        length = 0\n",
        "        curr = self\n",
        "        while curr != None:\n",
        "            curr = curr.next\n",
        "            length += 1\n",
        "        return length\n",
        "\n",
        "    def toList(self):\n",
        "      curr = self\n",
        "      temp = []\n",
        "      while curr != None:\n",
        "        temp.append(curr.val)\n",
        "        curr = curr.next\n",
        "      return temp\n",
        "\n",
        "def toListNode(inputList):\n",
        "  node = ListNode(inputList[0])\n",
        "  curr = node\n",
        "  length = len(inputList)\n",
        "  for i in range(1, length):\n",
        "    newNode = ListNode(inputList[i])\n",
        "    curr.next = newNode\n",
        "    curr = curr.next\n",
        "  return node\n",
        "\n",
        "def toCircularListNode(inputList, pos):\n",
        "  node = ListNode(inputList[0])\n",
        "  curr = node\n",
        "  length = len(inputList)\n",
        "  j = 1\n",
        "  pointBackNode = None\n",
        "  for i in range(1, length):\n",
        "    newNode = ListNode(inputList[i])\n",
        "    curr.next = newNode\n",
        "    curr = curr.next\n",
        "    if j == pos:\n",
        "      pointBackNode = curr\n",
        "    j += 1\n",
        "  if pos == 0:\n",
        "    curr.next = node\n",
        "  else:\n",
        "    curr.next = pointBackNode\n",
        "  return node\n",
        "\n",
        "def reverse(input, is_debug = False):\n",
        "  reversed = input[::-1]\n",
        "  if is_debug:\n",
        "    print(\"Reverse of {} -> {}\".format(input, reversed))\n",
        "  return reversed\n",
        "\n",
        "def is_palindrome(input, is_debug = False):\n",
        "  cleaned_input = \"\"\n",
        "  for s in input:\n",
        "    if s.isalnum():\n",
        "      cleaned_input += s.lower()\n",
        "  if is_debug:\n",
        "      print(\"After removing special chars and spaces {}\".format(cleaned_input))\n",
        "  return cleaned_input == reverse(cleaned_input, is_debug)"
      ],
      "execution_count": 1,
      "outputs": []
    },
    {
      "cell_type": "markdown",
      "metadata": {
        "id": "hAt-j7ipiIO4"
      },
      "source": [
        "Given a string, reverse all of its characters and return the resulting string. **[Google]**\n",
        "\n",
        "Ex: Given the following strings...\n",
        "\n",
        "```\n",
        "“Cat”, return “taC”\n",
        "“The Daily Byte”, return \"etyB yliaD ehT”\n",
        "“civic”, return “civic”\n",
        "```"
      ]
    },
    {
      "cell_type": "code",
      "metadata": {
        "colab": {
          "base_uri": "https://localhost:8080/"
        },
        "id": "0nIb97soiDK6",
        "outputId": "77afeac1-47ef-4077-cb8c-9092a31f66c7"
      },
      "source": [
        "inputs = [\"Cat\", \"The Daily Byte\", \"civic\"]\n",
        "\n",
        "for input in inputs:\n",
        "  print(reverse(input))"
      ],
      "execution_count": 2,
      "outputs": [
        {
          "output_type": "stream",
          "text": [
            "taC\n",
            "etyB yliaD ehT\n",
            "civic\n"
          ],
          "name": "stdout"
        }
      ]
    },
    {
      "cell_type": "markdown",
      "metadata": {
        "id": "4FvpxKyalr7H"
      },
      "source": [
        "Given a string, return whether or not it forms a palindrome ignoring case and non-alphabetical characters. **[Facebook]** [LeetCode](https://leetcode.com/problems/valid-palindrome/)\n",
        "\n",
        "Note: a palindrome is a sequence of characters that reads the same forwards and backwards.\n",
        "\n",
        "Ex: Given the following strings...\n",
        "```\n",
        "\"level\", return true\n",
        "\"algorithm\", return false\n",
        "\"A man, a plan, a canal: Panama.\", return true\n",
        "```"
      ]
    },
    {
      "cell_type": "code",
      "metadata": {
        "colab": {
          "base_uri": "https://localhost:8080/"
        },
        "id": "sSMilFEbl3US",
        "outputId": "8dec2cc8-2955-4753-ad86-198bc9ebd610"
      },
      "source": [
        "inputs = [\"level\", \"algorithm\", \"A man, a plan, a canal: Panama.\"]\n",
        "\n",
        "for input in inputs:\n",
        "  print(is_palindrome(input))"
      ],
      "execution_count": 3,
      "outputs": [
        {
          "output_type": "stream",
          "text": [
            "True\n",
            "False\n",
            "True\n"
          ],
          "name": "stdout"
        }
      ]
    },
    {
      "cell_type": "markdown",
      "metadata": {
        "id": "tFXGcC4hw8kO"
      },
      "source": [
        "Given a string representing the sequence of moves a robot vacuum makes, return whether or not it will return to its original position. The string will only contain L, R, U, and D characters, representing left, right, up, and down respectively. **[Amazon]** [LeetCode](https://leetcode.com/problems/robot-return-to-origin/)\n",
        "\n",
        "Ex: Given the following strings...\n",
        "```\n",
        "\"LR\", return true\n",
        "\"URURD\", return false\n",
        "\"RUULLDRD\", return true\n",
        "```"
      ]
    },
    {
      "cell_type": "code",
      "metadata": {
        "colab": {
          "base_uri": "https://localhost:8080/"
        },
        "id": "VOHzC3vTw7oe",
        "outputId": "b83202b9-c61d-4555-f577-16aedb67ea05"
      },
      "source": [
        "def will_return_og_pos(input):\n",
        "  count_l_r = 0\n",
        "  count_u_d = 0\n",
        "  for i in input:\n",
        "    if i == \"L\":\n",
        "      count_l_r += 1\n",
        "    if i == \"R\":\n",
        "      count_l_r -= 1\n",
        "    if i == \"U\":\n",
        "      count_u_d += 1\n",
        "    if i == \"D\":\n",
        "      count_u_d -= 1\n",
        "  return count_l_r == 0 and count_u_d == 0\n",
        "\n",
        "inputs = [\"LR\", \"URURD\", \"RUULLDRD\"]\n",
        "\n",
        "for input in inputs:\n",
        "  print(will_return_og_pos(input))"
      ],
      "execution_count": 4,
      "outputs": [
        {
          "output_type": "stream",
          "text": [
            "True\n",
            "False\n",
            "True\n"
          ],
          "name": "stdout"
        }
      ]
    },
    {
      "cell_type": "markdown",
      "metadata": {
        "id": "EY7s-lhk_VuI"
      },
      "source": [
        "Given a string, return whether or not it uses capitalization correctly. A string correctly uses capitalization if all letters are capitalized, no letters are capitalized, or only the first letter is capitalized. **[Google]** [LeetCode](https://leetcode.com/problems/detect-capital/)\n",
        "\n",
        "Ex: Given the following strings...\n",
        "```\n",
        "\"USA\", return true\n",
        "\"Calvin\", return true\n",
        "\"compUter\", return false\n",
        "\"coding\", return true\n",
        "```"
      ]
    },
    {
      "cell_type": "code",
      "metadata": {
        "id": "EH8WmcE1_eac",
        "colab": {
          "base_uri": "https://localhost:8080/"
        },
        "outputId": "c7435fd5-8493-4cff-d76b-8805fc538bc9"
      },
      "source": [
        "def detectCapitalUse(input):\n",
        "  if input == input.lower() or input == input.upper():\n",
        "    return True\n",
        "  elif input[0].isupper() and input[1:].islower():\n",
        "    return True\n",
        "  else:\n",
        "    return False\n",
        "\n",
        "inputs = [\"USA\", \"Calvin\", \"compUter\", \"coding\"]\n",
        "\n",
        "for input in inputs:\n",
        "  print(detectCapitalUse(input))"
      ],
      "execution_count": 5,
      "outputs": [
        {
          "output_type": "stream",
          "text": [
            "True\n",
            "True\n",
            "False\n",
            "True\n"
          ],
          "name": "stdout"
        }
      ]
    },
    {
      "cell_type": "markdown",
      "metadata": {
        "id": "NXPscDbKCBG2"
      },
      "source": [
        "Given two binary strings (strings containing only 1s and 0s) return their sum (also as a binary string). **[Apple]** [LeetCode](https://leetcode.com/problems/add-binary/)\n",
        "\n",
        "Note: neither binary string will contain leading 0s unless the string itself is 0\n",
        "\n",
        "Ex: Given the following binary strings...\n",
        "```\n",
        "\"100\" + \"1\", return \"101\"\n",
        "\"11\" + \"1\", return \"100\"\n",
        "\"1\" + \"0\", return  \"1\"\n",
        "```"
      ]
    },
    {
      "cell_type": "code",
      "metadata": {
        "id": "V2ihNhWKCJUR",
        "colab": {
          "base_uri": "https://localhost:8080/"
        },
        "outputId": "cf788753-631e-4d47-b898-00875db56284"
      },
      "source": [
        "def toDecimal(numString):\n",
        "  curr = int(numString[0])\n",
        "  for i in numString[1:]:\n",
        "    curr = (2 * curr) + int(i)\n",
        "  return curr\n",
        "\n",
        "def toBinary(num):\n",
        "  bin = \"\"\n",
        "  if num == 0:\n",
        "      return \"0\"\n",
        "  while num != 0:\n",
        "    bin += str(num % 2)\n",
        "    num = num // 2\n",
        "  return bin[::-1]\n",
        "\n",
        "def addBinary(a, b):\n",
        "  a = toDecimal(a)\n",
        "  b = toDecimal(b)\n",
        "  c = a+b\n",
        "  return toBinary(c)\n",
        "\n",
        "a = [\"100\", \"11\", \"0\",\"1\"]\n",
        "b = [\"1\", \"1\", \"0\", \"0\"]\n",
        "\n",
        "for i in range(len(a)):\n",
        "  print(addBinary(a[i],b[i]))"
      ],
      "execution_count": 6,
      "outputs": [
        {
          "output_type": "stream",
          "text": [
            "101\n",
            "100\n",
            "0\n",
            "1\n"
          ],
          "name": "stdout"
        }
      ]
    },
    {
      "cell_type": "markdown",
      "metadata": {
        "id": "AozImoZeOA6p"
      },
      "source": [
        "Given an array of strings, return the longest common prefix that is shared amongst all strings. **[Microsoft]** [LeetCode](https://leetcode.com/problems/longest-common-prefix/)\n",
        "\n",
        "Note: you may assume all strings only contain lowercase alphabetical characters.\n",
        "\n",
        "Ex: Given the following arrays...\n",
        "```\n",
        "[\"colorado\", \"color\", \"cold\"], return \"col\"\n",
        "[\"a\", \"b\", \"c\"], return \"\"\n",
        "[\"spot\", \"spotty\", \"spotted\"], return \"spot\"\n",
        "```"
      ]
    },
    {
      "cell_type": "code",
      "metadata": {
        "colab": {
          "base_uri": "https://localhost:8080/"
        },
        "id": "wLdEOUuJWNlL",
        "outputId": "dbfd89a5-2ab0-4250-af4e-78c925b37b7b"
      },
      "source": [
        "class Solution:\n",
        "    def longestCommonPrefix(self, strs):\n",
        "        if len(strs) == 0:\n",
        "            return \"\"\n",
        "        if len(strs) == 1:\n",
        "            return strs[0]\n",
        "        minS = min(strs)\n",
        "        prefix = \"\"\n",
        "        for word in strs:\n",
        "            if prefix:\n",
        "                minS = prefix\n",
        "            i = len(minS)\n",
        "            currPref = \"\"\n",
        "            while i != 0:\n",
        "                if minS[:i] == word[:i]:\n",
        "                    currPref = minS[:i]\n",
        "                    break\n",
        "                else:\n",
        "                    i -= 1\n",
        "            if not currPref:\n",
        "                return currPref\n",
        "            else:\n",
        "                prefix = currPref\n",
        "        return prefix\n",
        "\n",
        "\n",
        "inputs = [[\"colorado\", \"color\", \"cold\"],\n",
        "         [\"a\", \"b\", \"c\"],\n",
        "         [\"spot\", \"spotty\", \"spotted\"]]\n",
        "\n",
        "for input in inputs:\n",
        "  print(Solution().longestCommonPrefix(input))"
      ],
      "execution_count": 7,
      "outputs": [
        {
          "output_type": "stream",
          "text": [
            "col\n",
            "\n",
            "spot\n"
          ],
          "name": "stdout"
        }
      ]
    },
    {
      "cell_type": "markdown",
      "metadata": {
        "id": "QNJlQo-efCxl"
      },
      "source": [
        "Given a string and the ability to delete at most one character, return whether or not it can form a palindrome. **[Facebook]** [LeetCode](https://leetcode.com/problems/valid-palindrome-ii/)\n",
        "\n",
        "Note: a palindrome is a sequence of characters that reads the same forwards and backwards.\n",
        "\n",
        "Ex: Given the following strings...\n",
        "```\n",
        "\"abcba\", return true\n",
        "\"foobof\", return true (remove the first 'o', the second 'o', or 'b')\n",
        "\"abccab\", return false\n",
        "```"
      ]
    },
    {
      "cell_type": "code",
      "metadata": {
        "id": "eT5CQrL6fJZ8",
        "colab": {
          "base_uri": "https://localhost:8080/"
        },
        "outputId": "516fd9ee-e2c6-4422-f537-64d4334bcc97"
      },
      "source": [
        "class Solution:\n",
        "    def validPalindrome(self, s: str) -> bool:\n",
        "        left, right = 0, len(s) - 1\n",
        "        while left < right:\n",
        "            if s[left] != s[right]:\n",
        "                one, two = s[left:right], s[left + 1:right + 1]\n",
        "                return one == one[::-1] or two == two[::-1]\n",
        "            left, right = left + 1, right - 1\n",
        "        return True\n",
        "\n",
        "inputs = [\"abcba\", \"foobof\", \"abccab\"]\n",
        "for input in inputs:\n",
        "  print(Solution().validPalindrome(input))"
      ],
      "execution_count": 8,
      "outputs": [
        {
          "output_type": "stream",
          "text": [
            "True\n",
            "True\n",
            "False\n"
          ],
          "name": "stdout"
        }
      ]
    },
    {
      "cell_type": "markdown",
      "metadata": {
        "id": "AXacOKAjxnVQ"
      },
      "source": [
        "Given an array of integers, return whether or not two numbers sum to a given target, k. **[Google]** [LeetCode](https://leetcode.com/problems/two-sum/)\n",
        "\n",
        "Note: you may not sum a number with itself.\n",
        "\n",
        "Ex: Given the following...\n",
        "```\n",
        "[1, 3, 8, 2], k = 10, return true (8 + 2)\n",
        "[3, 9, 13, 7], k = 8, return false\n",
        "[4, 2, 6, 5, 2], k = 4, return true (2 + 2)\n",
        "```"
      ]
    },
    {
      "cell_type": "code",
      "metadata": {
        "colab": {
          "base_uri": "https://localhost:8080/"
        },
        "id": "d8IEFh7byUqt",
        "outputId": "050541e4-7db4-4eb4-ce9b-9425bedce293"
      },
      "source": [
        "class Solution:\n",
        "    def twoSum(self, nums, target):\n",
        "        dictionary = dict()\n",
        "        pos = 0\n",
        "        while pos < len(nums):\n",
        "            diff = target - nums[pos]\n",
        "            if (diff) not in dictionary:\n",
        "                dictionary[nums[pos]] = pos\n",
        "                pos += 1\n",
        "            else:\n",
        "                #return [dictionary[diff], pos]\n",
        "                return True\n",
        "        return False\n",
        "\n",
        "inputs = {\n",
        "    10 : [1, 3, 8, 2],\n",
        "    8 : [3, 9, 13, 7],\n",
        "    4 : [4, 2, 6, 5, 2]\n",
        "}\n",
        "\n",
        "for input in inputs:\n",
        "  print(Solution().twoSum(inputs[input],input))"
      ],
      "execution_count": 9,
      "outputs": [
        {
          "output_type": "stream",
          "text": [
            "True\n",
            "False\n",
            "True\n"
          ],
          "name": "stdout"
        }
      ]
    },
    {
      "cell_type": "markdown",
      "metadata": {
        "id": "SGNJJ1gOPpxp"
      },
      "source": [
        "Given a string representing your stones and another string representing a list of jewels, return the number of stones that you have that are also jewels. **[Amazon]** [LeetCode](https://leetcode.com/problems/jewels-and-stones/)\n",
        "\n",
        "Ex: Given the following jewels and stones...\n",
        "```\n",
        "jewels = \"abc\", stones = \"ac\", return 2\n",
        "jewels = \"Af\", stones = \"AaaddfFf\", return 3\n",
        "jewels = \"AYOPD\", stones = \"ayopd\", return 0\n",
        "```"
      ]
    },
    {
      "cell_type": "code",
      "metadata": {
        "id": "KfaQSmGYPvjq",
        "colab": {
          "base_uri": "https://localhost:8080/"
        },
        "outputId": "ce215cfd-744a-4185-9d27-c6686d4ce263"
      },
      "source": [
        "class Solution:\n",
        "    def numJewelsInStones(self, jewels: str, stones: str) -> int:\n",
        "        count = 0\n",
        "        for s in stones:\n",
        "            for j in jewels:\n",
        "                if s == j:\n",
        "                    count += 1\n",
        "        return count\n",
        "\n",
        "jewels = [\"abc\", \"Af\", \"AYOPD\"]\n",
        "stones = [\"ac\", \"AaaddfFf\", \"ayopd\"]\n",
        "\n",
        "for i in range(len(jewels)):\n",
        "  print(Solution().numJewelsInStones(jewels[i], stones[i]))"
      ],
      "execution_count": 10,
      "outputs": [
        {
          "output_type": "stream",
          "text": [
            "2\n",
            "3\n",
            "0\n"
          ],
          "name": "stdout"
        }
      ]
    },
    {
      "cell_type": "markdown",
      "metadata": {
        "id": "-RC7YQa4vRM3"
      },
      "source": [
        "Given two strings s and t return whether or not s is an anagram of t.\n",
        "Note: An anagram is a word formed by reordering the letters of another word. **[Facebook]** [LeetCode](https://leetcode.com/problems/valid-anagram/)\n",
        "\n",
        "Ex: Given the following strings...\n",
        "```\n",
        "s = \"cat\", t = \"tac\", return true\n",
        "s = \"listen\", t = \"silent\", return true\n",
        "s = \"program\", t = \"function\", return false\n",
        "```"
      ]
    },
    {
      "cell_type": "code",
      "metadata": {
        "id": "taOlJKixvRj3",
        "colab": {
          "base_uri": "https://localhost:8080/"
        },
        "outputId": "35d7bcae-5d8d-4b05-bfc2-3d626905eeb0"
      },
      "source": [
        "class Solution:\n",
        "    def isAnagram(self, s: str, t: str) -> bool:\n",
        "        if len(s) != len(t):\n",
        "            return False\n",
        "        s_list = [c for c in s]\n",
        "        t_list = [c for c in t]\n",
        "        s_list.sort()\n",
        "        t_list.sort()\n",
        "        return s_list == t_list\n",
        "\n",
        "s = [\"cat\", \"listen\", \"program\"]\n",
        "t = [\"tac\", \"silent\", \"function\"]\n",
        "for i in range(len(s)):\n",
        "  print(Solution().isAnagram(s[i], t[i]))"
      ],
      "execution_count": 11,
      "outputs": [
        {
          "output_type": "stream",
          "text": [
            "True\n",
            "True\n",
            "False\n"
          ],
          "name": "stdout"
        }
      ]
    },
    {
      "cell_type": "markdown",
      "metadata": {
        "id": "O2h4CpE621UU"
      },
      "source": [
        "Given a string, return the index of its first unique character. If a unique character does not exist, return -1. **[Microsoft]** [LeetCode](https://leetcode.com/problems/first-unique-character-in-a-string/)\n",
        "\n",
        "Ex: Given the following strings...\n",
        "```\n",
        "\"abcabd\", return 2\n",
        "\"thedailybyte\", return 1\n",
        "\"developer\", return 0\n",
        "```"
      ]
    },
    {
      "cell_type": "code",
      "metadata": {
        "colab": {
          "base_uri": "https://localhost:8080/"
        },
        "id": "W-QPh4jQ3EMc",
        "outputId": "4b1c7050-954b-4028-c483-dd8e7668eea6"
      },
      "source": [
        "class Solution:\n",
        "    def firstUniqChar(self, s: str) -> int:\n",
        "        '''\n",
        "        hashMap = dict()\n",
        "        for i in range(0, len(s)):\n",
        "            char = s[i]\n",
        "            if char in hashMap:\n",
        "                continue\n",
        "            if s.count(char) == 1:\n",
        "                return i\n",
        "            hashMap[char] = i\n",
        "        return -1\n",
        "        '''\n",
        "        alpha = 'abcdefghijklmnopqrstuvwxyz'\n",
        "        index = [s.index(char) for char in alpha if s.count(char) == 1]\n",
        "        return min(index) if len(index) > 0 else -1\n",
        "\n",
        "inputs = [\"abcabd\", \"thedailybyte\", \"developer\"]\n",
        "for input in inputs:\n",
        "  print(Solution().firstUniqChar(input))"
      ],
      "execution_count": 12,
      "outputs": [
        {
          "output_type": "stream",
          "text": [
            "2\n",
            "1\n",
            "0\n"
          ],
          "name": "stdout"
        }
      ]
    },
    {
      "cell_type": "markdown",
      "metadata": {
        "id": "D2_DH3HF6mcG"
      },
      "source": [
        "You are given two strings, s and t which only consist of lowercase letters. t is generated by shuffling the letters in s as well as potentially adding an additional random character. Return the letter that was randomly added to t if it exists, otherwise, return ’ ‘. **[Google]** [LeetCode](https://leetcode.com/problems/find-the-difference/)\n",
        "\n",
        "Note: You may assume that at most one additional character can be added to t.\n",
        "\n",
        "Ex: Given the following strings...\n",
        "```\n",
        "s = \"foobar\", t = \"barfoot\", return 't'\n",
        "s = \"ide\", t = \"idea\", return 'a'\n",
        "s = \"coding\", t \"ingcod\", return ''\n",
        "```"
      ]
    },
    {
      "cell_type": "code",
      "metadata": {
        "id": "ccfnkH83_gI6",
        "colab": {
          "base_uri": "https://localhost:8080/"
        },
        "outputId": "b6f5278a-fd37-466c-e727-3ae6f013ad14"
      },
      "source": [
        "class Solution:\n",
        "    def findTheDifference(self, s: str, t: str) -> str:\n",
        "        alpha = 'abcdefghijklmnopqrstuvwxyz'\n",
        "        for char in alpha:\n",
        "            if char in t and (char not in s or s.count(char) != t.count(char)):\n",
        "                return char\n",
        "        return ''\n",
        "\n",
        "s = ['foobar', 'ide', 'coding']\n",
        "t = ['barfoot', 'idea', 'ingcod']\n",
        "for i in range(0, len(s)):\n",
        "  print(Solution().findTheDifference(s[i], t[i]))"
      ],
      "execution_count": 13,
      "outputs": [
        {
          "output_type": "stream",
          "text": [
            "t\n",
            "a\n",
            "\n"
          ],
          "name": "stdout"
        }
      ]
    },
    {
      "cell_type": "markdown",
      "metadata": {
        "id": "mDNapmPQOxlz"
      },
      "source": [
        "Given two integer arrays, return their intersection. **[Google]** [LeetCode](https://leetcode.com/problems/intersection-of-two-arrays/submissions/)\n",
        "\n",
        "Note: the intersection is the set of elements that are common to both arrays.\n",
        "\n",
        "Ex: Given the following arrays...\n",
        "```\n",
        "nums1 = [2, 4, 4, 2], nums2 = [2, 4], return [2, 4]\n",
        "nums1 = [1, 2, 3, 3], nums2 = [3, 3], return [3]\n",
        "nums1 = [2, 4, 6, 8], nums2 = [1, 3, 5, 7], return []\n",
        "```"
      ]
    },
    {
      "cell_type": "code",
      "metadata": {
        "id": "2-M1uDzBO8Nj",
        "colab": {
          "base_uri": "https://localhost:8080/"
        },
        "outputId": "66a5f10c-3848-4580-e7a1-5ea082774de3"
      },
      "source": [
        "class Solution:\n",
        "    def intersection(self, nums1, nums2):\n",
        "        return list(set(nums1) & set(nums2))\n",
        "\n",
        "nums1 =[[2, 4, 4, 2],\n",
        "        [1, 2, 3, 3],\n",
        "        [2, 4, 6, 8]]\n",
        "\n",
        "nums2 = [[2, 4],\n",
        "         [3, 3],\n",
        "         [1, 3, 5, 7]]\n",
        "\n",
        "for i in range(0, len(nums1)):\n",
        "  print(Solution().intersection(nums1[i], nums2[i]))"
      ],
      "execution_count": 14,
      "outputs": [
        {
          "output_type": "stream",
          "text": [
            "[2, 4]\n",
            "[3]\n",
            "[]\n"
          ],
          "name": "stdout"
        }
      ]
    },
    {
      "cell_type": "markdown",
      "metadata": {
        "id": "eAWgt4NwpLh6"
      },
      "source": [
        "Given two strings representing sentences, return the words that are not common to both strings (i.e. the words that only appear in one of the sentences). You may assume that each sentence is a sequence of words (without punctuation) correctly separated using space characters. **[Amazon]** [LeetCode](https://leetcode.com/problems/uncommon-words-from-two-sentences/submissions/)\n",
        "\n",
        "Ex: given the following strings...\n",
        "```\n",
        "sentence1 = \"the quick\", sentence2 = \"brown fox\", return [\"the\", \"quick\", \"brown\", \"fox\"]\n",
        "sentence1 = \"the tortoise beat the haire\", sentence2 = \"the tortoise lost to the haire\", return [\"beat\", \"to\", \"lost\"]\n",
        "sentence1 = \"copper coffee pot\", sentence2 = \"hot coffee pot\", return [\"copper\", \"hot\"]\n",
        "```"
      ]
    },
    {
      "cell_type": "code",
      "metadata": {
        "id": "xpQwHQw_pcPD",
        "colab": {
          "base_uri": "https://localhost:8080/"
        },
        "outputId": "b05b64f1-ae11-4265-cf19-8ae77aadd9e1"
      },
      "source": [
        "from collections import Counter\n",
        "class Solution:\n",
        "    def uncommonFromSentences(self, s1, s2):\n",
        "        counter1 = Counter(s1.split(\" \"))\n",
        "        counter2 = Counter(s2.split(\" \"))\n",
        "        \n",
        "        result = []\n",
        "        for key in counter1:\n",
        "            if counter1[key] == 1:\n",
        "                if key not in counter2:\n",
        "                    result.append(key)\n",
        "        \n",
        "        for key in counter2:\n",
        "            if counter2[key] == 1:\n",
        "                if key not in counter1:\n",
        "                    result.append(key)\n",
        "                    \n",
        "        return result\n",
        "\n",
        "sentences1 = [\"the quick\", \"the tortoise beat the haire\", \"copper coffee pot\"]\n",
        "sentences2 = [\"brown fox\", \"the tortoise lost to the haire\", \"hot coffee pot\"]\n",
        "\n",
        "for i in range(0, len(sentences1)):\n",
        "  print(Solution().uncommonFromSentences(sentences1[i], sentences2[i]))"
      ],
      "execution_count": 15,
      "outputs": [
        {
          "output_type": "stream",
          "text": [
            "['the', 'quick', 'brown', 'fox']\n",
            "['beat', 'lost', 'to']\n",
            "['copper', 'hot']\n"
          ],
          "name": "stdout"
        }
      ]
    },
    {
      "cell_type": "markdown",
      "metadata": {
        "id": "TFDEAJpCFg2S"
      },
      "source": [
        "Given two sorted linked lists, merge them together in ascending order and return a reference to the merged list. **[Apple]** [LeetCode](https://leetcode.com/problems/merge-two-sorted-lists/submissions/)\n",
        "\n",
        "Ex: Given the following lists...\n",
        "```\n",
        "list1 = 1->2->3, list2 = 4->5->6->null, return 1->2->3->4->5->6->null\n",
        "list1 = 1->3->5, list2 = 2->4->6->null, return 1->2->3->4->5->6->null\n",
        "list1 = 4->4->7, list2 = 1->5->6->null, return 1->4->4->5->6->7->null\n",
        "```"
      ]
    },
    {
      "cell_type": "code",
      "metadata": {
        "id": "VV6NNDeoG_k4",
        "colab": {
          "base_uri": "https://localhost:8080/"
        },
        "outputId": "e256f619-306b-4ad3-f6ce-52d792a02144"
      },
      "source": [
        "class Solution:\n",
        "    def mergeTwoLists(self, l1: ListNode, l2: ListNode) -> ListNode:\n",
        "        result = ListNode()\n",
        "        curr = result\n",
        "        while l1 and l2:\n",
        "            if l1.val <= l2.val:\n",
        "                curr.next = l1\n",
        "                l1 = l1.next\n",
        "            else:\n",
        "                curr.next = l2\n",
        "                l2 = l2.next\n",
        "            curr = curr.next\n",
        "        curr.next = l1 if l1 else l2\n",
        "        return result.next\n",
        "\n",
        "listNodes1 = [toListNode([1, 2, 3]),\n",
        "              toListNode([1, 3, 5]),\n",
        "              toListNode([4, 4, 7]),]\n",
        "\n",
        "listNodes2 = [toListNode([4, 5, 6]),\n",
        "              toListNode([2, 4, 6]),\n",
        "              toListNode([1, 5, 6]),]\n",
        "\n",
        "for i in range(0, len(listNodes1)):\n",
        "  node = Solution().mergeTwoLists(listNodes1[i], listNodes2[i])\n",
        "  print(node.toList())"
      ],
      "execution_count": 16,
      "outputs": [
        {
          "output_type": "stream",
          "text": [
            "[1, 2, 3, 4, 5, 6]\n",
            "[1, 2, 3, 4, 5, 6]\n",
            "[1, 4, 4, 5, 6, 7]\n"
          ],
          "name": "stdout"
        }
      ]
    },
    {
      "cell_type": "markdown",
      "metadata": {
        "id": "X1pbFD-5Z-I1"
      },
      "source": [
        "Given a linked list and a value n, remove the nth to last node and return the resulting list. **[Facebook]** [LeetCode](https://leetcode.com/problems/remove-nth-node-from-end-of-list/)\n",
        "\n",
        "Ex: Given the following linked lists...\n",
        "```\n",
        "1->2->3->null, n = 1, return 1->2->null\n",
        "1->2->3->null, n = 2, return 1->3->null\n",
        "1->2->3->null, n = 3, return 2->3->null\n",
        "```"
      ]
    },
    {
      "cell_type": "code",
      "metadata": {
        "id": "kzg_QrKSaIjK",
        "colab": {
          "base_uri": "https://localhost:8080/"
        },
        "outputId": "dda315c4-7746-454f-95e5-825b463f068a"
      },
      "source": [
        "class Solution:\n",
        "    def removeNthFromEnd(self, head: ListNode, n: int) -> ListNode:\n",
        "        dummy = ListNode()\n",
        "        dummy.next = head\n",
        "        curr = head\n",
        "        length = 0\n",
        "        while curr != None:\n",
        "            curr = curr.next\n",
        "            length += 1 \n",
        "        length -= n\n",
        "        curr = dummy\n",
        "        while length > 0:\n",
        "            curr = curr.next\n",
        "            length -= 1\n",
        "        curr.next = curr.next.next\n",
        "        return dummy.next\n",
        "\n",
        "listNodes = [toListNode([1, 2, 3]),\n",
        "             toListNode([1, 2, 3]),\n",
        "             toListNode([1, 2, 3]),]\n",
        "\n",
        "for i in range(0, len(listNodes)):\n",
        "  node = Solution().removeNthFromEnd(listNodes[i], i+1)\n",
        "  print(node.toList())"
      ],
      "execution_count": 17,
      "outputs": [
        {
          "output_type": "stream",
          "text": [
            "[1, 2]\n",
            "[1, 3]\n",
            "[2, 3]\n"
          ],
          "name": "stdout"
        }
      ]
    },
    {
      "cell_type": "markdown",
      "metadata": {
        "id": "knM63NC10AeD"
      },
      "source": [
        "Given a linked list and a value, remove all nodes containing the provided value, and return the resulting list. **[Google]** [LeetCode](https://leetcode.com/problems/remove-linked-list-elements/)\n",
        " \n",
        "Ex: Given the following linked lists and values...\n",
        "```\n",
        "1->2->3->null, value = 3, return 1->2->null\n",
        "8->1->1->4->12->null, value = 1, return 8->4->12->null\n",
        "7->12->2->9->null, value = 7, return 12->2->9->null\n",
        "```"
      ]
    },
    {
      "cell_type": "code",
      "metadata": {
        "colab": {
          "base_uri": "https://localhost:8080/"
        },
        "id": "pfiK_dPP0A19",
        "outputId": "25fb9e10-c6bc-4544-c48d-0396bfd1b497"
      },
      "source": [
        "class Solution:\n",
        "    def removeElements(self, head: ListNode, val: int) -> ListNode:\n",
        "        dummy = ListNode()\n",
        "        dummy.next = head\n",
        "        prev = dummy\n",
        "        curr = dummy.next\n",
        "        while curr != None:\n",
        "            if curr.val == val:\n",
        "                prev.next = curr.next\n",
        "            else:\n",
        "                prev = curr\n",
        "            curr = curr.next\n",
        "        return dummy.next\n",
        "\n",
        "listNodes = [toListNode([1, 2, 3]),\n",
        "             toListNode([8, 1, 1, 4, 12]),\n",
        "             toListNode([7, 12, 2, 9])]\n",
        "\n",
        "delList = [3, 1, 7]\n",
        "\n",
        "for i in range(0, len(listNodes)):\n",
        "  node = Solution().removeElements(listNodes[i], delList[i])\n",
        "  print(node.toList())"
      ],
      "execution_count": 18,
      "outputs": [
        {
          "output_type": "stream",
          "text": [
            "[1, 2]\n",
            "[8, 4, 12]\n",
            "[12, 2, 9]\n"
          ],
          "name": "stdout"
        }
      ]
    },
    {
      "cell_type": "markdown",
      "metadata": {
        "id": "GIkMMXj86jKn"
      },
      "source": [
        "Given a non-empty linked list, return the middle node of the list. If the linked list contains an even number of elements, return the node closer to the end. **[Amazon]** [LeetCode](https://leetcode.com/problems/middle-of-the-linked-list/)\n",
        "\n",
        "```\n",
        "1->2->3->null, return 2->3->null\n",
        "1->2->3->4->null, return 3->4->null\n",
        "1->null, return 1->null\n",
        "```"
      ]
    },
    {
      "cell_type": "code",
      "metadata": {
        "id": "vAKXmsiH6jXb",
        "colab": {
          "base_uri": "https://localhost:8080/"
        },
        "outputId": "fb65f2a0-3753-41b0-d0b5-fbdfcab30dbe"
      },
      "source": [
        "class Solution: \n",
        "    def middleNode(self, head: ListNode) -> ListNode:\n",
        "      length = head.getLength()\n",
        "      center = length // 2\n",
        "      if length % 2 == 0:\n",
        "        length += 1\n",
        "      curr = head\n",
        "      index = 0\n",
        "      while curr != None:\n",
        "        if index == center:\n",
        "          return curr\n",
        "        curr = curr.next\n",
        "        index += 1\n",
        "\n",
        "listNodes = [toListNode([1, 2, 3]),\n",
        "             toListNode([1, 2, 3, 4]),\n",
        "             toListNode([1])]\n",
        "\n",
        "for i in range(0, len(listNodes)):\n",
        "  node = Solution().middleNode(listNodes[i])\n",
        "  print(node.toList())"
      ],
      "execution_count": 19,
      "outputs": [
        {
          "output_type": "stream",
          "text": [
            "[2, 3]\n",
            "[3, 4]\n",
            "[1]\n"
          ],
          "name": "stdout"
        }
      ]
    },
    {
      "cell_type": "markdown",
      "metadata": {
        "id": "hIyJfqYkYYKQ"
      },
      "source": [
        "Given a linked list, containing unique numbers, return whether or not it has a cycle. **[Microsoft]** [LeetCode](https://leetcode.com/problems/linked-list-cycle/)\n",
        "\n",
        "Note: a cycle is a circular arrangement (i.e. one node points back to a previous node)\n",
        "\n",
        "Ex: Given the following linked lists...\n",
        "```\n",
        "1->2->3->1 -> true (3 points back to 1)\n",
        "1->2->3 -> false\n",
        "1->1 true (1 points to itself)\n",
        "```"
      ]
    },
    {
      "cell_type": "code",
      "metadata": {
        "id": "y_JCW5qRYpxz",
        "outputId": "75119676-2b9b-42bc-82cf-96188f0d3ea6",
        "colab": {
          "base_uri": "https://localhost:8080/"
        }
      },
      "source": [
        "class Solution:\n",
        "    def hasCycle(self, head: ListNode) -> bool:\n",
        "        slow = head \n",
        "        fast = head\n",
        "        while fast and fast.next:\n",
        "            slow = slow.next\n",
        "            fast = fast.next.next\n",
        "            if slow == fast:\n",
        "                return True\n",
        "        return False\n",
        "\n",
        "listNodes = [toCircularListNode([1, 2, 3], 1),\n",
        "             toCircularListNode([1, 2, 3, 4], -1),\n",
        "             toCircularListNode([1], 0)]\n",
        "\n",
        "for i in range(0, len(listNodes)):\n",
        "  node = Solution().hasCycle(listNodes[i])\n",
        "  print(node)"
      ],
      "execution_count": 20,
      "outputs": [
        {
          "output_type": "stream",
          "text": [
            "True\n",
            "False\n",
            "True\n"
          ],
          "name": "stdout"
        }
      ]
    }
  ]
}