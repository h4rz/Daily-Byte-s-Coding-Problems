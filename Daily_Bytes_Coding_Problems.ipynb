{
  "nbformat": 4,
  "nbformat_minor": 0,
  "metadata": {
    "colab": {
      "name": "Daily Bytes Coding Problems.ipynb",
      "provenance": [],
      "collapsed_sections": [],
      "authorship_tag": "ABX9TyMeO0TeV5p379bTv2FIlxjE",
      "include_colab_link": true
    },
    "kernelspec": {
      "name": "python3",
      "display_name": "Python 3"
    },
    "language_info": {
      "name": "python"
    }
  },
  "cells": [
    {
      "cell_type": "markdown",
      "metadata": {
        "id": "view-in-github",
        "colab_type": "text"
      },
      "source": [
        "<a href=\"https://colab.research.google.com/github/h4rz/Daily-Byte-s-Coding-Problems/blob/main/Daily_Bytes_Coding_Problems.ipynb\" target=\"_parent\"><img src=\"https://colab.research.google.com/assets/colab-badge.svg\" alt=\"Open In Colab\"/></a>"
      ]
    },
    {
      "cell_type": "markdown",
      "metadata": {
        "id": "3gDavL2RhxEN"
      },
      "source": [
        "# Daily Byte's Question\n",
        "\n",
        "https://thedailybyte.dev/"
      ]
    },
    {
      "cell_type": "code",
      "metadata": {
        "id": "HGhJMZAZmi6d"
      },
      "source": [
        "# Utils\n",
        "def reverse(input, is_debug = False):\n",
        "  reversed = input[::-1]\n",
        "  if is_debug:\n",
        "    print(\"Reverse of {} -> {}\".format(input, reversed))\n",
        "  return reversed\n",
        "\n",
        "def is_palindrome(input, is_debug = False):\n",
        "  cleaned_input = \"\"\n",
        "  for s in input:\n",
        "    if s.isalnum():\n",
        "      cleaned_input += s.lower()\n",
        "  if is_debug:\n",
        "      print(\"After removing special chars and spaces {}\".format(cleaned_input))\n",
        "  return cleaned_input == reverse(cleaned_input, is_debug)"
      ],
      "execution_count": 1,
      "outputs": []
    },
    {
      "cell_type": "markdown",
      "metadata": {
        "id": "hAt-j7ipiIO4"
      },
      "source": [
        "Given a string, reverse all of its characters and return the resulting string. **[Google]**\n",
        "\n",
        "Ex: Given the following strings...\n",
        "\n",
        "```\n",
        "“Cat”, return “taC”\n",
        "“The Daily Byte”, return \"etyB yliaD ehT”\n",
        "“civic”, return “civic”\n",
        "```"
      ]
    },
    {
      "cell_type": "code",
      "metadata": {
        "colab": {
          "base_uri": "https://localhost:8080/"
        },
        "id": "0nIb97soiDK6",
        "outputId": "22399db7-5419-4441-e4e1-ecba7612c421"
      },
      "source": [
        "inputs = [\"Cat\", \"The Daily Byte\", \"civic\"]\n",
        "\n",
        "for input in inputs:\n",
        "  print(reverse(input))"
      ],
      "execution_count": 2,
      "outputs": [
        {
          "output_type": "stream",
          "text": [
            "taC\n",
            "etyB yliaD ehT\n",
            "civic\n"
          ],
          "name": "stdout"
        }
      ]
    },
    {
      "cell_type": "markdown",
      "metadata": {
        "id": "4FvpxKyalr7H"
      },
      "source": [
        "Given a string, return whether or not it forms a palindrome ignoring case and non-alphabetical characters. **[Facebook]** [LeetCode](https://leetcode.com/problems/valid-palindrome/)\n",
        "\n",
        "Note: a palindrome is a sequence of characters that reads the same forwards and backwards.\n",
        "\n",
        "Ex: Given the following strings...\n",
        "```\n",
        "\"level\", return true\n",
        "\"algorithm\", return false\n",
        "\"A man, a plan, a canal: Panama.\", return true\n",
        "```"
      ]
    },
    {
      "cell_type": "code",
      "metadata": {
        "colab": {
          "base_uri": "https://localhost:8080/"
        },
        "id": "sSMilFEbl3US",
        "outputId": "abec02f6-5ea2-42da-e170-a2329a3c6818"
      },
      "source": [
        "inputs = [\"level\", \"algorithm\", \"A man, a plan, a canal: Panama.\"]\n",
        "\n",
        "for input in inputs:\n",
        "  print(is_palindrome(input))"
      ],
      "execution_count": 3,
      "outputs": [
        {
          "output_type": "stream",
          "text": [
            "True\n",
            "False\n",
            "True\n"
          ],
          "name": "stdout"
        }
      ]
    },
    {
      "cell_type": "markdown",
      "metadata": {
        "id": "tFXGcC4hw8kO"
      },
      "source": [
        "Given a string representing the sequence of moves a robot vacuum makes, return whether or not it will return to its original position. The string will only contain L, R, U, and D characters, representing left, right, up, and down respectively. **[Amazon]** [LeetCode](https://leetcode.com/problems/robot-return-to-origin/)\n",
        "\n",
        "Ex: Given the following strings...\n",
        "```\n",
        "\"LR\", return true\n",
        "\"URURD\", return false\n",
        "\"RUULLDRD\", return true\n",
        "```"
      ]
    },
    {
      "cell_type": "code",
      "metadata": {
        "colab": {
          "base_uri": "https://localhost:8080/"
        },
        "id": "VOHzC3vTw7oe",
        "outputId": "092dcd2e-ff4f-4019-b989-a5dadf4aa153"
      },
      "source": [
        "def will_return_og_pos(input):\n",
        "  count_l_r = 0\n",
        "  count_u_d = 0\n",
        "  for i in input:\n",
        "    if i == \"L\":\n",
        "      count_l_r += 1\n",
        "    if i == \"R\":\n",
        "      count_l_r -= 1\n",
        "    if i == \"U\":\n",
        "      count_u_d += 1\n",
        "    if i == \"D\":\n",
        "      count_u_d -= 1\n",
        "  return count_l_r == 0 and count_u_d == 0\n",
        "\n",
        "inputs = [\"LR\", \"URURD\", \"RUULLDRD\"]\n",
        "\n",
        "for input in inputs:\n",
        "  print(will_return_og_pos(input))"
      ],
      "execution_count": 4,
      "outputs": [
        {
          "output_type": "stream",
          "text": [
            "True\n",
            "False\n",
            "True\n"
          ],
          "name": "stdout"
        }
      ]
    },
    {
      "cell_type": "markdown",
      "metadata": {
        "id": "EY7s-lhk_VuI"
      },
      "source": [
        "Given a string, return whether or not it uses capitalization correctly. A string correctly uses capitalization if all letters are capitalized, no letters are capitalized, or only the first letter is capitalized. **[Google]** [LeetCode](https://leetcode.com/problems/detect-capital/)\n",
        "\n",
        "Ex: Given the following strings...\n",
        "```\n",
        "\"USA\", return true\n",
        "\"Calvin\", return true\n",
        "\"compUter\", return false\n",
        "\"coding\", return true\n",
        "```"
      ]
    },
    {
      "cell_type": "code",
      "metadata": {
        "id": "EH8WmcE1_eac",
        "colab": {
          "base_uri": "https://localhost:8080/"
        },
        "outputId": "c1148c8d-ebdc-494c-cb5c-be65e7e545fe"
      },
      "source": [
        "def detectCapitalUse(input):\n",
        "  if input == input.lower() or input == input.upper():\n",
        "    return True\n",
        "  elif input[0].isupper() and input[1:].islower():\n",
        "    return True\n",
        "  else:\n",
        "    return False\n",
        "\n",
        "inputs = [\"USA\", \"Calvin\", \"compUter\", \"coding\"]\n",
        "\n",
        "for input in inputs:\n",
        "  print(detectCapitalUse(input))"
      ],
      "execution_count": 5,
      "outputs": [
        {
          "output_type": "stream",
          "text": [
            "True\n",
            "True\n",
            "False\n",
            "True\n"
          ],
          "name": "stdout"
        }
      ]
    },
    {
      "cell_type": "markdown",
      "metadata": {
        "id": "NXPscDbKCBG2"
      },
      "source": [
        "Given two binary strings (strings containing only 1s and 0s) return their sum (also as a binary string). **[Apple]** [LeetCode](https://leetcode.com/problems/add-binary/)\n",
        "\n",
        "Note: neither binary string will contain leading 0s unless the string itself is 0\n",
        "\n",
        "Ex: Given the following binary strings...\n",
        "```\n",
        "\"100\" + \"1\", return \"101\"\n",
        "\"11\" + \"1\", return \"100\"\n",
        "\"1\" + \"0\", return  \"1\"\n",
        "```"
      ]
    },
    {
      "cell_type": "code",
      "metadata": {
        "id": "V2ihNhWKCJUR",
        "colab": {
          "base_uri": "https://localhost:8080/"
        },
        "outputId": "7045dc59-a5db-4468-e846-46f5ecf2f62f"
      },
      "source": [
        "def toDecimal(numString):\n",
        "  curr = int(numString[0])\n",
        "  for i in numString[1:]:\n",
        "    curr = (2 * curr) + int(i)\n",
        "  return curr\n",
        "\n",
        "def toBinary(num):\n",
        "  bin = \"\"\n",
        "  if num == 0:\n",
        "      return \"0\"\n",
        "  while num != 0:\n",
        "    bin += str(num % 2)\n",
        "    num = num // 2\n",
        "  return bin[::-1]\n",
        "\n",
        "def addBinary(a, b):\n",
        "  a = toDecimal(a)\n",
        "  b = toDecimal(b)\n",
        "  c = a+b\n",
        "  return toBinary(c)\n",
        "\n",
        "a = [\"100\", \"11\", \"0\",\"1\"]\n",
        "b = [\"1\", \"1\", \"0\", \"0\"]\n",
        "\n",
        "for i in range(len(a)):\n",
        "  print(addBinary(a[i],b[i]))"
      ],
      "execution_count": 6,
      "outputs": [
        {
          "output_type": "stream",
          "text": [
            "101\n",
            "100\n",
            "0\n",
            "1\n"
          ],
          "name": "stdout"
        }
      ]
    },
    {
      "cell_type": "markdown",
      "metadata": {
        "id": "AozImoZeOA6p"
      },
      "source": [
        "Given an array of strings, return the longest common prefix that is shared amongst all strings. **[Microsoft]** [LeetCode](https://leetcode.com/problems/longest-common-prefix/)\n",
        "\n",
        "Note: you may assume all strings only contain lowercase alphabetical characters.\n",
        "\n",
        "Ex: Given the following arrays...\n",
        "```\n",
        "[\"colorado\", \"color\", \"cold\"], return \"col\"\n",
        "[\"a\", \"b\", \"c\"], return \"\"\n",
        "[\"spot\", \"spotty\", \"spotted\"], return \"spot\"\n",
        "```"
      ]
    },
    {
      "cell_type": "code",
      "metadata": {
        "colab": {
          "base_uri": "https://localhost:8080/"
        },
        "id": "wLdEOUuJWNlL",
        "outputId": "5af3c6c3-4685-43ca-f67e-e4dcf1588e27"
      },
      "source": [
        "class Solution:\n",
        "    def longestCommonPrefix(self, strs):\n",
        "        if len(strs) == 0:\n",
        "            return \"\"\n",
        "        if len(strs) == 1:\n",
        "            return strs[0]\n",
        "        minS = min(strs)\n",
        "        prefix = \"\"\n",
        "        for word in strs:\n",
        "            if prefix:\n",
        "                minS = prefix\n",
        "            i = len(minS)\n",
        "            currPref = \"\"\n",
        "            while i != 0:\n",
        "                if minS[:i] == word[:i]:\n",
        "                    currPref = minS[:i]\n",
        "                    break\n",
        "                else:\n",
        "                    i -= 1\n",
        "            if not currPref:\n",
        "                return currPref\n",
        "            else:\n",
        "                prefix = currPref\n",
        "        return prefix\n",
        "\n",
        "\n",
        "inputs = [[\"colorado\", \"color\", \"cold\"],\n",
        "         [\"a\", \"b\", \"c\"],\n",
        "         [\"spot\", \"spotty\", \"spotted\"]]\n",
        "\n",
        "for input in inputs:\n",
        "  print(Solution().longestCommonPrefix(input))"
      ],
      "execution_count": 7,
      "outputs": [
        {
          "output_type": "stream",
          "text": [
            "col\n",
            "\n",
            "spot\n"
          ],
          "name": "stdout"
        }
      ]
    },
    {
      "cell_type": "markdown",
      "metadata": {
        "id": "QNJlQo-efCxl"
      },
      "source": [
        "Given a string and the ability to delete at most one character, return whether or not it can form a palindrome. **[Facebook]** [LeetCode](https://leetcode.com/problems/valid-palindrome-ii/)\n",
        "\n",
        "Note: a palindrome is a sequence of characters that reads the same forwards and backwards.\n",
        "\n",
        "Ex: Given the following strings...\n",
        "```\n",
        "\"abcba\", return true\n",
        "\"foobof\", return true (remove the first 'o', the second 'o', or 'b')\n",
        "\"abccab\", return false\n",
        "```"
      ]
    },
    {
      "cell_type": "code",
      "metadata": {
        "id": "eT5CQrL6fJZ8",
        "colab": {
          "base_uri": "https://localhost:8080/"
        },
        "outputId": "a5f59587-9be0-44eb-97e3-31f8158675e1"
      },
      "source": [
        "class Solution:\n",
        "    def validPalindrome(self, s: str) -> bool:\n",
        "        left, right = 0, len(s) - 1\n",
        "        while left < right:\n",
        "            if s[left] != s[right]:\n",
        "                one, two = s[left:right], s[left + 1:right + 1]\n",
        "                return one == one[::-1] or two == two[::-1]\n",
        "            left, right = left + 1, right - 1\n",
        "        return True\n",
        "\n",
        "inputs = [\"abcba\", \"foobof\", \"abccab\"]\n",
        "for input in inputs:\n",
        "  print(Solution().validPalindrome(input))"
      ],
      "execution_count": 8,
      "outputs": [
        {
          "output_type": "stream",
          "text": [
            "True\n",
            "True\n",
            "False\n"
          ],
          "name": "stdout"
        }
      ]
    },
    {
      "cell_type": "markdown",
      "metadata": {
        "id": "AXacOKAjxnVQ"
      },
      "source": [
        "Given an array of integers, return whether or not two numbers sum to a given target, k. **[Google]** [LeetCode](https://leetcode.com/problems/two-sum/)\n",
        "\n",
        "Note: you may not sum a number with itself.\n",
        "\n",
        "Ex: Given the following...\n",
        "```\n",
        "[1, 3, 8, 2], k = 10, return true (8 + 2)\n",
        "[3, 9, 13, 7], k = 8, return false\n",
        "[4, 2, 6, 5, 2], k = 4, return true (2 + 2)\n",
        "```"
      ]
    },
    {
      "cell_type": "code",
      "metadata": {
        "colab": {
          "base_uri": "https://localhost:8080/"
        },
        "id": "d8IEFh7byUqt",
        "outputId": "66083706-263f-4952-9bf0-4dc28ef90302"
      },
      "source": [
        "class Solution:\n",
        "    def twoSum(self, nums, target):\n",
        "        dictionary = dict()\n",
        "        pos = 0\n",
        "        while pos < len(nums):\n",
        "            diff = target - nums[pos]\n",
        "            if (diff) not in dictionary:\n",
        "                dictionary[nums[pos]] = pos\n",
        "                pos += 1\n",
        "            else:\n",
        "                #return [dictionary[diff], pos]\n",
        "                return True\n",
        "        return False\n",
        "\n",
        "inputs = {\n",
        "    10 : [1, 3, 8, 2],\n",
        "    8 : [3, 9, 13, 7],\n",
        "    4 : [4, 2, 6, 5, 2]\n",
        "}\n",
        "\n",
        "for input in inputs:\n",
        "  print(Solution().twoSum(inputs[input],input))"
      ],
      "execution_count": 9,
      "outputs": [
        {
          "output_type": "stream",
          "text": [
            "True\n",
            "False\n",
            "True\n"
          ],
          "name": "stdout"
        }
      ]
    },
    {
      "cell_type": "markdown",
      "metadata": {
        "id": "SGNJJ1gOPpxp"
      },
      "source": [
        "Given a string representing your stones and another string representing a list of jewels, return the number of stones that you have that are also jewels. **[Amazon]** [LeetCode](https://leetcode.com/problems/jewels-and-stones/)\n",
        "\n",
        "Ex: Given the following jewels and stones...\n",
        "```\n",
        "jewels = \"abc\", stones = \"ac\", return 2\n",
        "jewels = \"Af\", stones = \"AaaddfFf\", return 3\n",
        "jewels = \"AYOPD\", stones = \"ayopd\", return 0\n",
        "```"
      ]
    },
    {
      "cell_type": "code",
      "metadata": {
        "id": "KfaQSmGYPvjq",
        "colab": {
          "base_uri": "https://localhost:8080/"
        },
        "outputId": "6dfdf41c-1f6d-4856-d3eb-9ada0413d361"
      },
      "source": [
        "class Solution:\n",
        "    def numJewelsInStones(self, jewels: str, stones: str) -> int:\n",
        "        count = 0\n",
        "        for s in stones:\n",
        "            for j in jewels:\n",
        "                if s == j:\n",
        "                    count += 1\n",
        "        return count\n",
        "\n",
        "jewels = [\"abc\", \"Af\", \"AYOPD\"]\n",
        "stones = [\"ac\", \"AaaddfFf\", \"ayopd\"]\n",
        "\n",
        "for i in range(len(jewels)):\n",
        "  print(Solution().numJewelsInStones(jewels[i], stones[i]))"
      ],
      "execution_count": 10,
      "outputs": [
        {
          "output_type": "stream",
          "text": [
            "2\n",
            "3\n",
            "0\n"
          ],
          "name": "stdout"
        }
      ]
    },
    {
      "cell_type": "markdown",
      "metadata": {
        "id": "-RC7YQa4vRM3"
      },
      "source": [
        "Given two strings s and t return whether or not s is an anagram of t.\n",
        "Note: An anagram is a word formed by reordering the letters of another word. **[Facebook]** [LeetCode](https://leetcode.com/problems/valid-anagram/)\n",
        "\n",
        "Ex: Given the following strings...\n",
        "```\n",
        "s = \"cat\", t = \"tac\", return true\n",
        "s = \"listen\", t = \"silent\", return true\n",
        "s = \"program\", t = \"function\", return false\n",
        "```"
      ]
    },
    {
      "cell_type": "code",
      "metadata": {
        "id": "taOlJKixvRj3",
        "colab": {
          "base_uri": "https://localhost:8080/"
        },
        "outputId": "8b0bbcc8-0641-4e4b-fcf5-22d6b6977035"
      },
      "source": [
        "class Solution:\n",
        "    def isAnagram(self, s: str, t: str) -> bool:\n",
        "        if len(s) != len(t):\n",
        "            return False\n",
        "        s_list = [c for c in s]\n",
        "        t_list = [c for c in t]\n",
        "        s_list.sort()\n",
        "        t_list.sort()\n",
        "        return s_list == t_list\n",
        "\n",
        "s = [\"cat\", \"listen\", \"program\"]\n",
        "t = [\"tac\", \"silent\", \"function\"]\n",
        "for i in range(len(s)):\n",
        "  print(Solution().isAnagram(s[i], t[i]))"
      ],
      "execution_count": 11,
      "outputs": [
        {
          "output_type": "stream",
          "text": [
            "True\n",
            "True\n",
            "False\n"
          ],
          "name": "stdout"
        }
      ]
    },
    {
      "cell_type": "markdown",
      "metadata": {
        "id": "O2h4CpE621UU"
      },
      "source": [
        "Given a string, return the index of its first unique character. If a unique character does not exist, return -1. **[Microsoft]** [LeetCode](https://leetcode.com/problems/first-unique-character-in-a-string/)\n",
        "\n",
        "Ex: Given the following strings...\n",
        "```\n",
        "\"abcabd\", return 2\n",
        "\"thedailybyte\", return 1\n",
        "\"developer\", return 0\n",
        "```"
      ]
    },
    {
      "cell_type": "code",
      "metadata": {
        "colab": {
          "base_uri": "https://localhost:8080/"
        },
        "id": "W-QPh4jQ3EMc",
        "outputId": "9c941029-16c0-40d8-c4ab-14549c5b06f7"
      },
      "source": [
        "class Solution:\n",
        "    def firstUniqChar(self, s: str) -> int:\n",
        "        '''\n",
        "        hashMap = dict()\n",
        "        for i in range(0, len(s)):\n",
        "            char = s[i]\n",
        "            if char in hashMap:\n",
        "                continue\n",
        "            if s.count(char) == 1:\n",
        "                return i\n",
        "            hashMap[char] = i\n",
        "        return -1\n",
        "        '''\n",
        "        alpha = 'abcdefghijklmnopqrstuvwxyz'\n",
        "        index = [s.index(char) for char in alpha if s.count(char) == 1]\n",
        "        return min(index) if len(index) > 0 else -1\n",
        "\n",
        "inputs = [\"abcabd\", \"thedailybyte\", \"developer\"]\n",
        "for input in inputs:\n",
        "  print(Solution().firstUniqChar(input))"
      ],
      "execution_count": 12,
      "outputs": [
        {
          "output_type": "stream",
          "text": [
            "2\n",
            "1\n",
            "0\n"
          ],
          "name": "stdout"
        }
      ]
    },
    {
      "cell_type": "markdown",
      "metadata": {
        "id": "D2_DH3HF6mcG"
      },
      "source": [
        "You are given two strings, s and t which only consist of lowercase letters. t is generated by shuffling the letters in s as well as potentially adding an additional random character. Return the letter that was randomly added to t if it exists, otherwise, return ’ ‘. **[Google]** [LeetCode](https://leetcode.com/problems/find-the-difference/)\n",
        "\n",
        "Note: You may assume that at most one additional character can be added to t.\n",
        "\n",
        "Ex: Given the following strings...\n",
        "```\n",
        "s = \"foobar\", t = \"barfoot\", return 't'\n",
        "s = \"ide\", t = \"idea\", return 'a'\n",
        "s = \"coding\", t \"ingcod\", return ''\n",
        "```"
      ]
    },
    {
      "cell_type": "code",
      "metadata": {
        "id": "ccfnkH83_gI6",
        "colab": {
          "base_uri": "https://localhost:8080/"
        },
        "outputId": "f2de8c68-d640-4207-f7d0-107f89f20c8f"
      },
      "source": [
        "class Solution:\n",
        "    def findTheDifference(self, s: str, t: str) -> str:\n",
        "        alpha = 'abcdefghijklmnopqrstuvwxyz'\n",
        "        for char in alpha:\n",
        "            if char in t and (char not in s or s.count(char) != t.count(char)):\n",
        "                return char\n",
        "        return ''\n",
        "\n",
        "s = ['foobar', 'ide', 'coding']\n",
        "t = ['barfoot', 'idea', 'ingcod']\n",
        "for i in range(0, len(s)):\n",
        "  print(Solution().findTheDifference(s[i], t[i]))"
      ],
      "execution_count": 13,
      "outputs": [
        {
          "output_type": "stream",
          "text": [
            "t\n",
            "a\n",
            "\n"
          ],
          "name": "stdout"
        }
      ]
    },
    {
      "cell_type": "markdown",
      "metadata": {
        "id": "mDNapmPQOxlz"
      },
      "source": [
        "Given two integer arrays, return their intersection. **[Google]** [LeetCode](https://leetcode.com/problems/intersection-of-two-arrays/submissions/)\n",
        "\n",
        "Note: the intersection is the set of elements that are common to both arrays.\n",
        "\n",
        "Ex: Given the following arrays...\n",
        "```\n",
        "nums1 = [2, 4, 4, 2], nums2 = [2, 4], return [2, 4]\n",
        "nums1 = [1, 2, 3, 3], nums2 = [3, 3], return [3]\n",
        "nums1 = [2, 4, 6, 8], nums2 = [1, 3, 5, 7], return []\n",
        "```"
      ]
    },
    {
      "cell_type": "code",
      "metadata": {
        "id": "2-M1uDzBO8Nj",
        "outputId": "431494c7-c499-4ed9-8029-792723fb9f2a",
        "colab": {
          "base_uri": "https://localhost:8080/"
        }
      },
      "source": [
        "class Solution:\n",
        "    def intersection(self, nums1, nums2):\n",
        "        return list(set(nums1) & set(nums2))\n",
        "\n",
        "nums1 =[[2, 4, 4, 2],\n",
        "        [1, 2, 3, 3],\n",
        "        [2, 4, 6, 8]]\n",
        "\n",
        "nums2 = [[2, 4],\n",
        "         [3, 3],\n",
        "         [1, 3, 5, 7]]\n",
        "\n",
        "for i in range(0, len(nums1)):\n",
        "  print(Solution().intersection(nums1[i], nums2[i]))"
      ],
      "execution_count": 14,
      "outputs": [
        {
          "output_type": "stream",
          "text": [
            "[2, 4]\n",
            "[3]\n",
            "[]\n"
          ],
          "name": "stdout"
        }
      ]
    }
  ]
}